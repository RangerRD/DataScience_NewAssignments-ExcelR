{
 "cells": [
  {
   "cell_type": "code",
   "execution_count": 155,
   "id": "e546dde9-b167-422c-b149-44261b963282",
   "metadata": {
    "tags": []
   },
   "outputs": [],
   "source": [
    "import pandas as pd\n",
    "import numpy as np\n",
    "from scipy.stats import chi2_contingency, chi2"
   ]
  },
  {
   "cell_type": "code",
   "execution_count": 11,
   "id": "9346c09b-55f2-428f-b215-97d17f936d7a",
   "metadata": {
    "tags": []
   },
   "outputs": [
    {
     "name": "stdout",
     "output_type": "stream",
     "text": [
      "Hypothesis for chi square test for independence\n",
      "Null Hypotheses (H0) : There is no association between type of smart home device and customer satisfaction level.\n",
      "Alternative Hypotheses (H1): There is an association between type of smart home devices and customer satisfaction level.\n",
      "\n"
     ]
    }
   ],
   "source": [
    "# State the hypothesis\n",
    "print(\"Hypothesis for chi square test for independence\")\n",
    "print(\"Null Hypotheses (H0) : There is no association between type of smart home device and customer satisfaction level.\")\n",
    "print(\"Alternative Hypotheses (H1): There is an association between type of smart home devices and customer satisfaction level.\")\n",
    "print()\n"
   ]
  },
  {
   "cell_type": "code",
   "execution_count": 66,
   "id": "fe6401ba-fb57-4538-b75d-e2bb97e56337",
   "metadata": {
    "tags": []
   },
   "outputs": [
    {
     "name": "stdout",
     "output_type": "stream",
     "text": [
      "contengency tabel = \n",
      "     satisfaction  smart thermostat  smart light\n",
      "0  very satisfied                50           70\n",
      "1       satisfied                80          100\n",
      "2         netural                60           90\n",
      "3     unsatisfied                30           50\n",
      "4  very satisfied                20           50\n"
     ]
    }
   ],
   "source": [
    "data = pd.DataFrame({'satisfaction':['very satisfied','satisfied','netural','unsatisfied','very satisfied'],\n",
    "                     'smart thermostat':[50,80,60,30,20],\n",
    "                     'smart light':[70,100,90,50,50]})\n",
    "print(\"contengency tabel = \")\n",
    "print(data)"
   ]
  },
  {
   "cell_type": "code",
   "execution_count": 80,
   "id": "c28f00f3-f77b-4d67-8926-9d86976aa1f8",
   "metadata": {
    "tags": []
   },
   "outputs": [
    {
     "name": "stdout",
     "output_type": "stream",
     "text": [
      "[[ 50  70]\n",
      " [ 80 100]\n",
      " [ 60  90]\n",
      " [ 30  50]\n",
      " [ 20  50]]\n"
     ]
    }
   ],
   "source": [
    "# converting the data in the values needed for chi2_contingency function\n",
    "contingency_table = data[['smart thermostat','smart light']].values\n",
    "print(contingency_table)"
   ]
  },
  {
   "cell_type": "code",
   "execution_count": 157,
   "id": "123d02ac-6f38-4265-b64e-c2e8b98ed028",
   "metadata": {
    "tags": []
   },
   "outputs": [
    {
     "name": "stdout",
     "output_type": "stream",
     "text": [
      "9.487729036781154\n"
     ]
    }
   ],
   "source": [
    "# critcial value\n",
    "critical_value = chi2.ppf(1-alpha,dof)\n",
    "print(critical_value)"
   ]
  },
  {
   "cell_type": "code",
   "execution_count": 163,
   "id": "fe98fc9f-2154-48d8-897f-51bd57675ef0",
   "metadata": {
    "tags": []
   },
   "outputs": [
    {
     "name": "stdout",
     "output_type": "stream",
     "text": [
      "Chi-square statistics = 5.638227513227513\n",
      "P-value = 0.22784371130697179\n",
      "degree of freedom = 4\n",
      "Critical vlaue = 9.487729036781154\n",
      "Expected frequency = [[ 48.  72.]\n",
      " [ 72. 108.]\n",
      " [ 60.  90.]\n",
      " [ 32.  48.]\n",
      " [ 28.  42.]]\n"
     ]
    }
   ],
   "source": [
    "chi2,p,dof,expected = chi2_contingency(contingency_table)\n",
    "print(f\"Chi-square statistics = {chi2}\")\n",
    "print(f\"P-value = {p}\")\n",
    "print(f\"degree of freedom = {dof}\")\n",
    "print(f\"Critical vlaue = {critical_value}\")\n",
    "print(f\"Expected frequency = {expected}\")"
   ]
  },
  {
   "cell_type": "code",
   "execution_count": 169,
   "id": "17830e08-d227-4693-8a6d-1e947a666e9d",
   "metadata": {
    "tags": []
   },
   "outputs": [
    {
     "name": "stdout",
     "output_type": "stream",
     "text": [
      "Null hypotheisis cannot be rejected : There is no association between type of smart home device and customer satisfaction level\n"
     ]
    }
   ],
   "source": [
    "alpha=0.05\n",
    "if chi2 > critical_value:\n",
    "    print(\"Null hypotheisis rejected : There is an association between type of smart home devices and customer satisfaction level\")\n",
    "else:\n",
    "    print(\"Null hypotheisis cannot be rejected : There is no association between type of smart home device and customer satisfaction level\")\n",
    " "
   ]
  },
  {
   "cell_type": "code",
   "execution_count": null,
   "id": "83109bfc-cdfd-455c-8680-5fc9b46ecfb3",
   "metadata": {},
   "outputs": [],
   "source": []
  }
 ],
 "metadata": {
  "kernelspec": {
   "display_name": "Python 3 (ipykernel)",
   "language": "python",
   "name": "python3"
  },
  "language_info": {
   "codemirror_mode": {
    "name": "ipython",
    "version": 3
   },
   "file_extension": ".py",
   "mimetype": "text/x-python",
   "name": "python",
   "nbconvert_exporter": "python",
   "pygments_lexer": "ipython3",
   "version": "3.11.7"
  }
 },
 "nbformat": 4,
 "nbformat_minor": 5
}
