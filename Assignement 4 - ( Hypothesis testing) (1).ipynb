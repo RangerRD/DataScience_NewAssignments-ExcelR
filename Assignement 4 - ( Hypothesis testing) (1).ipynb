{
 "cells": [
  {
   "cell_type": "markdown",
   "id": "ffd4bcbe-62c3-4f36-873a-b91c8a98071a",
   "metadata": {},
   "source": [
    "state the hypothesis, \n",
    "\n",
    "Null Hypothesis : The weekly operating cost follows the theoretical model W = $1,000 + $5X.\n",
    "\n",
    "Alternative Hypothesis : The weekly operating cost is higher than the theoretical model predicts.\n"
   ]
  },
  {
   "cell_type": "markdown",
   "id": "f73ec1b9-72a1-401d-bd41-e1005f84fe41",
   "metadata": {
    "tags": []
   },
   "source": [
    "###Calculating the test statistic"
   ]
  },
  {
   "cell_type": "code",
   "execution_count": 10,
   "id": "58b951a4-bebc-4f92-9c73-1b51b49658d6",
   "metadata": {
    "tags": []
   },
   "outputs": [],
   "source": [
    "import math"
   ]
  },
  {
   "cell_type": "code",
   "execution_count": 12,
   "id": "02c8d435-366c-4273-b8aa-7e66d628b82d",
   "metadata": {
    "tags": []
   },
   "outputs": [],
   "source": [
    "#Given\n",
    "sample_mean = 3050\n",
    "theoretical_mean = 4000\n",
    "sigma = 125\n",
    "sample_size = 25\n"
   ]
  },
  {
   "cell_type": "code",
   "execution_count": 18,
   "id": "b9f77eb7-3d7f-4cbe-aa14-3dd87ead6e2a",
   "metadata": {
    "tags": []
   },
   "outputs": [
    {
     "name": "stdout",
     "output_type": "stream",
     "text": [
      "25.0\n"
     ]
    }
   ],
   "source": [
    "standard_error = sigma / math.sqrt(sample_size)\n",
    "print(standard_error)"
   ]
  },
  {
   "cell_type": "code",
   "execution_count": 20,
   "id": "2d4f9c70-dc25-4eba-9120-da75d66cac18",
   "metadata": {
    "tags": []
   },
   "outputs": [
    {
     "name": "stdout",
     "output_type": "stream",
     "text": [
      "-38.0\n"
     ]
    }
   ],
   "source": [
    "t_value = (sample_mean - theoretical_mean) / standard_error\n",
    "print(t_value)"
   ]
  },
  {
   "cell_type": "code",
   "execution_count": 24,
   "id": "375a5f4e-1088-439a-822b-dfcd72444079",
   "metadata": {
    "tags": []
   },
   "outputs": [
    {
     "name": "stdout",
     "output_type": "stream",
     "text": [
      "The calulated t-value is : -38.0\n"
     ]
    }
   ],
   "source": [
    "print(f\"The calulated t-value is : {t_value}\")"
   ]
  },
  {
   "cell_type": "code",
   "execution_count": null,
   "id": "21268818-a6ae-4692-9f1f-4b15537e1f41",
   "metadata": {},
   "outputs": [],
   "source": []
  }
 ],
 "metadata": {
  "kernelspec": {
   "display_name": "Python 3 (ipykernel)",
   "language": "python",
   "name": "python3"
  },
  "language_info": {
   "codemirror_mode": {
    "name": "ipython",
    "version": 3
   },
   "file_extension": ".py",
   "mimetype": "text/x-python",
   "name": "python",
   "nbconvert_exporter": "python",
   "pygments_lexer": "ipython3",
   "version": "3.11.7"
  }
 },
 "nbformat": 4,
 "nbformat_minor": 5
}
