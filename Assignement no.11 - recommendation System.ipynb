{
 "cells": [
  {
   "cell_type": "code",
   "execution_count": 1,
   "id": "5f7422f5-45c0-4275-a360-be1a834e3de9",
   "metadata": {
    "tags": []
   },
   "outputs": [],
   "source": [
    "import pandas as pd\n",
    "from sklearn.metrics.pairwise import cosine_similarity\n",
    "from sklearn.feature_extraction.text import TfidfVectorizer"
   ]
  },
  {
   "cell_type": "code",
   "execution_count": 2,
   "id": "08393ffc-894e-4117-a0c7-6d8625e6642d",
   "metadata": {
    "tags": []
   },
   "outputs": [],
   "source": [
    "# Load the dataset\n",
    "anime_data = pd.read_csv(\"anime.csv\")"
   ]
  },
  {
   "cell_type": "code",
   "execution_count": 3,
   "id": "10fe1882-df0a-4be7-ac53-c47396fa82cf",
   "metadata": {
    "tags": []
   },
   "outputs": [
    {
     "data": {
      "text/html": [
       "<div>\n",
       "<style scoped>\n",
       "    .dataframe tbody tr th:only-of-type {\n",
       "        vertical-align: middle;\n",
       "    }\n",
       "\n",
       "    .dataframe tbody tr th {\n",
       "        vertical-align: top;\n",
       "    }\n",
       "\n",
       "    .dataframe thead th {\n",
       "        text-align: right;\n",
       "    }\n",
       "</style>\n",
       "<table border=\"1\" class=\"dataframe\">\n",
       "  <thead>\n",
       "    <tr style=\"text-align: right;\">\n",
       "      <th></th>\n",
       "      <th>anime_id</th>\n",
       "      <th>name</th>\n",
       "      <th>genre</th>\n",
       "      <th>type</th>\n",
       "      <th>episodes</th>\n",
       "      <th>rating</th>\n",
       "      <th>members</th>\n",
       "    </tr>\n",
       "  </thead>\n",
       "  <tbody>\n",
       "    <tr>\n",
       "      <th>0</th>\n",
       "      <td>32281</td>\n",
       "      <td>Kimi no Na wa.</td>\n",
       "      <td>Drama, Romance, School, Supernatural</td>\n",
       "      <td>Movie</td>\n",
       "      <td>1</td>\n",
       "      <td>9.37</td>\n",
       "      <td>200630</td>\n",
       "    </tr>\n",
       "    <tr>\n",
       "      <th>1</th>\n",
       "      <td>5114</td>\n",
       "      <td>Fullmetal Alchemist: Brotherhood</td>\n",
       "      <td>Action, Adventure, Drama, Fantasy, Magic, Mili...</td>\n",
       "      <td>TV</td>\n",
       "      <td>64</td>\n",
       "      <td>9.26</td>\n",
       "      <td>793665</td>\n",
       "    </tr>\n",
       "    <tr>\n",
       "      <th>2</th>\n",
       "      <td>28977</td>\n",
       "      <td>Gintama°</td>\n",
       "      <td>Action, Comedy, Historical, Parody, Samurai, S...</td>\n",
       "      <td>TV</td>\n",
       "      <td>51</td>\n",
       "      <td>9.25</td>\n",
       "      <td>114262</td>\n",
       "    </tr>\n",
       "    <tr>\n",
       "      <th>3</th>\n",
       "      <td>9253</td>\n",
       "      <td>Steins;Gate</td>\n",
       "      <td>Sci-Fi, Thriller</td>\n",
       "      <td>TV</td>\n",
       "      <td>24</td>\n",
       "      <td>9.17</td>\n",
       "      <td>673572</td>\n",
       "    </tr>\n",
       "    <tr>\n",
       "      <th>4</th>\n",
       "      <td>9969</td>\n",
       "      <td>Gintama&amp;#039;</td>\n",
       "      <td>Action, Comedy, Historical, Parody, Samurai, S...</td>\n",
       "      <td>TV</td>\n",
       "      <td>51</td>\n",
       "      <td>9.16</td>\n",
       "      <td>151266</td>\n",
       "    </tr>\n",
       "  </tbody>\n",
       "</table>\n",
       "</div>"
      ],
      "text/plain": [
       "   anime_id                              name  \\\n",
       "0     32281                    Kimi no Na wa.   \n",
       "1      5114  Fullmetal Alchemist: Brotherhood   \n",
       "2     28977                          Gintama°   \n",
       "3      9253                       Steins;Gate   \n",
       "4      9969                     Gintama&#039;   \n",
       "\n",
       "                                               genre   type episodes  rating  \\\n",
       "0               Drama, Romance, School, Supernatural  Movie        1    9.37   \n",
       "1  Action, Adventure, Drama, Fantasy, Magic, Mili...     TV       64    9.26   \n",
       "2  Action, Comedy, Historical, Parody, Samurai, S...     TV       51    9.25   \n",
       "3                                   Sci-Fi, Thriller     TV       24    9.17   \n",
       "4  Action, Comedy, Historical, Parody, Samurai, S...     TV       51    9.16   \n",
       "\n",
       "   members  \n",
       "0   200630  \n",
       "1   793665  \n",
       "2   114262  \n",
       "3   673572  \n",
       "4   151266  "
      ]
     },
     "execution_count": 3,
     "metadata": {},
     "output_type": "execute_result"
    }
   ],
   "source": [
    "anime_data.head()"
   ]
  },
  {
   "cell_type": "code",
   "execution_count": 4,
   "id": "5fde83cd-b682-45f3-8678-440df12c23db",
   "metadata": {
    "tags": []
   },
   "outputs": [],
   "source": [
    "anime_data = anime_data.rename(columns={'genre':'genres','name':'title'})"
   ]
  },
  {
   "cell_type": "code",
   "execution_count": 5,
   "id": "4452fd97-aeb6-4e58-b2ce-96d4c4cc6751",
   "metadata": {
    "tags": []
   },
   "outputs": [
    {
     "data": {
      "text/html": [
       "<div>\n",
       "<style scoped>\n",
       "    .dataframe tbody tr th:only-of-type {\n",
       "        vertical-align: middle;\n",
       "    }\n",
       "\n",
       "    .dataframe tbody tr th {\n",
       "        vertical-align: top;\n",
       "    }\n",
       "\n",
       "    .dataframe thead th {\n",
       "        text-align: right;\n",
       "    }\n",
       "</style>\n",
       "<table border=\"1\" class=\"dataframe\">\n",
       "  <thead>\n",
       "    <tr style=\"text-align: right;\">\n",
       "      <th></th>\n",
       "      <th>anime_id</th>\n",
       "      <th>title</th>\n",
       "      <th>genres</th>\n",
       "      <th>type</th>\n",
       "      <th>episodes</th>\n",
       "      <th>rating</th>\n",
       "      <th>members</th>\n",
       "    </tr>\n",
       "  </thead>\n",
       "  <tbody>\n",
       "    <tr>\n",
       "      <th>0</th>\n",
       "      <td>32281</td>\n",
       "      <td>Kimi no Na wa.</td>\n",
       "      <td>Drama, Romance, School, Supernatural</td>\n",
       "      <td>Movie</td>\n",
       "      <td>1</td>\n",
       "      <td>9.37</td>\n",
       "      <td>200630</td>\n",
       "    </tr>\n",
       "    <tr>\n",
       "      <th>1</th>\n",
       "      <td>5114</td>\n",
       "      <td>Fullmetal Alchemist: Brotherhood</td>\n",
       "      <td>Action, Adventure, Drama, Fantasy, Magic, Mili...</td>\n",
       "      <td>TV</td>\n",
       "      <td>64</td>\n",
       "      <td>9.26</td>\n",
       "      <td>793665</td>\n",
       "    </tr>\n",
       "    <tr>\n",
       "      <th>2</th>\n",
       "      <td>28977</td>\n",
       "      <td>Gintama°</td>\n",
       "      <td>Action, Comedy, Historical, Parody, Samurai, S...</td>\n",
       "      <td>TV</td>\n",
       "      <td>51</td>\n",
       "      <td>9.25</td>\n",
       "      <td>114262</td>\n",
       "    </tr>\n",
       "    <tr>\n",
       "      <th>3</th>\n",
       "      <td>9253</td>\n",
       "      <td>Steins;Gate</td>\n",
       "      <td>Sci-Fi, Thriller</td>\n",
       "      <td>TV</td>\n",
       "      <td>24</td>\n",
       "      <td>9.17</td>\n",
       "      <td>673572</td>\n",
       "    </tr>\n",
       "    <tr>\n",
       "      <th>4</th>\n",
       "      <td>9969</td>\n",
       "      <td>Gintama&amp;#039;</td>\n",
       "      <td>Action, Comedy, Historical, Parody, Samurai, S...</td>\n",
       "      <td>TV</td>\n",
       "      <td>51</td>\n",
       "      <td>9.16</td>\n",
       "      <td>151266</td>\n",
       "    </tr>\n",
       "    <tr>\n",
       "      <th>...</th>\n",
       "      <td>...</td>\n",
       "      <td>...</td>\n",
       "      <td>...</td>\n",
       "      <td>...</td>\n",
       "      <td>...</td>\n",
       "      <td>...</td>\n",
       "      <td>...</td>\n",
       "    </tr>\n",
       "    <tr>\n",
       "      <th>12289</th>\n",
       "      <td>9316</td>\n",
       "      <td>Toushindai My Lover: Minami tai Mecha-Minami</td>\n",
       "      <td>Hentai</td>\n",
       "      <td>OVA</td>\n",
       "      <td>1</td>\n",
       "      <td>4.15</td>\n",
       "      <td>211</td>\n",
       "    </tr>\n",
       "    <tr>\n",
       "      <th>12290</th>\n",
       "      <td>5543</td>\n",
       "      <td>Under World</td>\n",
       "      <td>Hentai</td>\n",
       "      <td>OVA</td>\n",
       "      <td>1</td>\n",
       "      <td>4.28</td>\n",
       "      <td>183</td>\n",
       "    </tr>\n",
       "    <tr>\n",
       "      <th>12291</th>\n",
       "      <td>5621</td>\n",
       "      <td>Violence Gekiga David no Hoshi</td>\n",
       "      <td>Hentai</td>\n",
       "      <td>OVA</td>\n",
       "      <td>4</td>\n",
       "      <td>4.88</td>\n",
       "      <td>219</td>\n",
       "    </tr>\n",
       "    <tr>\n",
       "      <th>12292</th>\n",
       "      <td>6133</td>\n",
       "      <td>Violence Gekiga Shin David no Hoshi: Inma Dens...</td>\n",
       "      <td>Hentai</td>\n",
       "      <td>OVA</td>\n",
       "      <td>1</td>\n",
       "      <td>4.98</td>\n",
       "      <td>175</td>\n",
       "    </tr>\n",
       "    <tr>\n",
       "      <th>12293</th>\n",
       "      <td>26081</td>\n",
       "      <td>Yasuji no Pornorama: Yacchimae!!</td>\n",
       "      <td>Hentai</td>\n",
       "      <td>Movie</td>\n",
       "      <td>1</td>\n",
       "      <td>5.46</td>\n",
       "      <td>142</td>\n",
       "    </tr>\n",
       "  </tbody>\n",
       "</table>\n",
       "<p>12294 rows × 7 columns</p>\n",
       "</div>"
      ],
      "text/plain": [
       "       anime_id                                              title  \\\n",
       "0         32281                                     Kimi no Na wa.   \n",
       "1          5114                   Fullmetal Alchemist: Brotherhood   \n",
       "2         28977                                           Gintama°   \n",
       "3          9253                                        Steins;Gate   \n",
       "4          9969                                      Gintama&#039;   \n",
       "...         ...                                                ...   \n",
       "12289      9316       Toushindai My Lover: Minami tai Mecha-Minami   \n",
       "12290      5543                                        Under World   \n",
       "12291      5621                     Violence Gekiga David no Hoshi   \n",
       "12292      6133  Violence Gekiga Shin David no Hoshi: Inma Dens...   \n",
       "12293     26081                   Yasuji no Pornorama: Yacchimae!!   \n",
       "\n",
       "                                                  genres   type episodes  \\\n",
       "0                   Drama, Romance, School, Supernatural  Movie        1   \n",
       "1      Action, Adventure, Drama, Fantasy, Magic, Mili...     TV       64   \n",
       "2      Action, Comedy, Historical, Parody, Samurai, S...     TV       51   \n",
       "3                                       Sci-Fi, Thriller     TV       24   \n",
       "4      Action, Comedy, Historical, Parody, Samurai, S...     TV       51   \n",
       "...                                                  ...    ...      ...   \n",
       "12289                                             Hentai    OVA        1   \n",
       "12290                                             Hentai    OVA        1   \n",
       "12291                                             Hentai    OVA        4   \n",
       "12292                                             Hentai    OVA        1   \n",
       "12293                                             Hentai  Movie        1   \n",
       "\n",
       "       rating  members  \n",
       "0        9.37   200630  \n",
       "1        9.26   793665  \n",
       "2        9.25   114262  \n",
       "3        9.17   673572  \n",
       "4        9.16   151266  \n",
       "...       ...      ...  \n",
       "12289    4.15      211  \n",
       "12290    4.28      183  \n",
       "12291    4.88      219  \n",
       "12292    4.98      175  \n",
       "12293    5.46      142  \n",
       "\n",
       "[12294 rows x 7 columns]"
      ]
     },
     "execution_count": 5,
     "metadata": {},
     "output_type": "execute_result"
    }
   ],
   "source": [
    "anime_data"
   ]
  },
  {
   "cell_type": "code",
   "execution_count": 6,
   "id": "3a6b2e0b-03f1-452a-9802-8319191b9d05",
   "metadata": {
    "tags": []
   },
   "outputs": [
    {
     "name": "stdout",
     "output_type": "stream",
     "text": [
      "<class 'pandas.core.series.Series'>\n",
      "RangeIndex: 12294 entries, 0 to 12293\n",
      "Series name: genres\n",
      "Non-Null Count  Dtype \n",
      "--------------  ----- \n",
      "12232 non-null  object\n",
      "dtypes: object(1)\n",
      "memory usage: 96.2+ KB\n",
      "None\n"
     ]
    }
   ],
   "source": [
    "print (anime_data['genres'].info())"
   ]
  },
  {
   "cell_type": "code",
   "execution_count": 7,
   "id": "9f974860-40fe-4448-bc20-cf598ea4df34",
   "metadata": {
    "tags": []
   },
   "outputs": [],
   "source": [
    "# Data preprocessing\n",
    "# Handle missing values (if any)\n",
    "anime_data['genres'].fillna('', inplace=True)\n",
    "\n",
    "# Feature extraction\n",
    "# Combine genres and title for a more comprehensive similarity measure\n",
    "anime_data['combined_features'] = anime_data['genres'] + ' ' + anime_data['title']"
   ]
  },
  {
   "cell_type": "code",
   "execution_count": 8,
   "id": "bdad8bfa-1f41-4630-9e16-7ce0c2e47ddc",
   "metadata": {
    "tags": []
   },
   "outputs": [],
   "source": [
    "# Create TF-IDF vectors\n",
    "tfidf_vectorizer = TfidfVectorizer(stop_words='english')\n",
    "tfidf_matrix = tfidf_vectorizer.fit_transform(anime_data['combined_features'])\n",
    "\n",
    "# Calculate cosine similarity\n",
    "cosine_sim = cosine_similarity(tfidf_matrix, tfidf_matrix)"
   ]
  },
  {
   "cell_type": "code",
   "execution_count": 9,
   "id": "b7240795-7d47-4c57-891d-5c58dd40d548",
   "metadata": {
    "tags": []
   },
   "outputs": [
    {
     "name": "stdout",
     "output_type": "stream",
     "text": [
      "778     Death Note Rewrite\n",
      "199           Death Parade\n",
      "477        Death Billiards\n",
      "38                 Monster\n",
      "5382             AD Police\n",
      "Name: title, dtype: object\n"
     ]
    }
   ],
   "source": [
    "# Recommendation function\n",
    "def recommend_anime(anime_title):\n",
    "    index = anime_data[anime_data['title'] == anime_title].index[0]\n",
    "    similarity_scores = list(enumerate(cosine_sim[index]))\n",
    "    similarity_scores = sorted(similarity_scores, key=lambda x: x[1], reverse=True)\n",
    "\n",
    "    top_recommendations = similarity_scores[1:6]  # Recommend top 5\n",
    "    recommended_anime_indices = [i[0] for i in top_recommendations]\n",
    "    return anime_data['title'].iloc[recommended_anime_indices]\n",
    "\n",
    "# Example usage\n",
    "anime_to_recommend = \"Death Note\"\n",
    "recommended_anime = recommend_anime(anime_to_recommend)\n",
    "print(recommended_anime)"
   ]
  },
  {
   "cell_type": "code",
   "execution_count": 10,
   "id": "c0d756dc-daa7-4ed0-a623-93c72bc899e7",
   "metadata": {
    "tags": []
   },
   "outputs": [],
   "source": [
    "import numpy as np\n",
    "\n",
    "# Split the dataset into training and testing sets\n",
    "np.random.seed(42)  # For reproducibility\n",
    "shuffle_index = np.random.permutation(len(anime_data))\n",
    "train_size = int(0.8 * len(anime_data))\n",
    "\n",
    "train_index = shuffle_index[:train_size]\n",
    "test_index = shuffle_index[train_size:]\n",
    "\n",
    "train_data = anime_data.iloc[train_index]\n",
    "test_data = anime_data.iloc[test_index]"
   ]
  },
  {
   "cell_type": "code",
   "execution_count": 11,
   "id": "c9342ed1-62b7-43c5-8598-abadb6816f81",
   "metadata": {
    "tags": []
   },
   "outputs": [
    {
     "name": "stdout",
     "output_type": "stream",
     "text": [
      "       anime_id                                             title  \\\n",
      "6329      17209  Suzy&#039;s Zoo: Daisuki! Witzy - Happy Birthday   \n",
      "2167        173                                           Tactics   \n",
      "2882       3616                                 Kamen no Maid Guy   \n",
      "4700      18799                                     Take Your Way   \n",
      "7258      18831                                           Rinkaku   \n",
      "...         ...                                               ...   \n",
      "5510       4563                        Bakkyuu HIT! Crash Bedaman   \n",
      "5330       2046         Mahou no Tenshi Creamy Mami: Long Goodbye   \n",
      "4531      13799             Pokemon: Meloetta no Kirakira Recital   \n",
      "365        1943                                           Paprika   \n",
      "12271      5559               Nijuusou: Wana ni Ochita Onna-tachi   \n",
      "\n",
      "                                                  genres     type episodes  \\\n",
      "6329                                                Kids  Special        1   \n",
      "2167   Comedy, Drama, Fantasy, Mystery, Shounen, Supe...       TV       25   \n",
      "2882                  Action, Comedy, Ecchi, Super Power       TV       12   \n",
      "4700                 Action, Music, Seinen, Supernatural    Music        1   \n",
      "7258                             Dementia, Horror, Music    Music        1   \n",
      "...                                                  ...      ...      ...   \n",
      "5510                                           Adventure       TV       50   \n",
      "5330             Comedy, Fantasy, Magic, Romance, Shoujo      OVA        1   \n",
      "4531             Adventure, Comedy, Fantasy, Kids, Music    Movie        1   \n",
      "365    Fantasy, Horror, Mystery, Psychological, Sci-F...    Movie        1   \n",
      "12271                                             Hentai      OVA        1   \n",
      "\n",
      "       rating  members                                  combined_features  \n",
      "6329     6.17      158  Kids Suzy&#039;s Zoo: Daisuki! Witzy - Happy B...  \n",
      "2167     7.34    27358  Comedy, Drama, Fantasy, Mystery, Shounen, Supe...  \n",
      "2882     7.14    27761  Action, Comedy, Ecchi, Super Power Kamen no Ma...  \n",
      "4700     6.66     1387  Action, Music, Seinen, Supernatural Take Your Way  \n",
      "7258     5.60      606                    Dementia, Horror, Music Rinkaku  \n",
      "...       ...      ...                                                ...  \n",
      "5510     6.43      747               Adventure Bakkyuu HIT! Crash Bedaman  \n",
      "5330     6.49      476  Comedy, Fantasy, Magic, Romance, Shoujo Mahou ...  \n",
      "4531     6.70     3937  Adventure, Comedy, Fantasy, Kids, Music Pokemo...  \n",
      "365      8.15   163308  Fantasy, Horror, Mystery, Psychological, Sci-F...  \n",
      "12271    5.20      240         Hentai Nijuusou: Wana ni Ochita Onna-tachi  \n",
      "\n",
      "[9835 rows x 8 columns]        anime_id                         title  \\\n",
      "147       23317  Kuroshitsuji: Book of Murder   \n",
      "1668        666      JoJo no Kimyou na Bouken   \n",
      "10866     33048                  Zegapain ADP   \n",
      "7650      10584                Mononoke Dance   \n",
      "8599      20175    Gamba to Kawauso no Bouken   \n",
      "...         ...                           ...   \n",
      "11964      4638                      Milkyway   \n",
      "5191       5272   Tondemo Nezumi Daikatsuyaku   \n",
      "5390       1262      Macross II: Lovers Again   \n",
      "860       22819                Aikatsu! Movie   \n",
      "7270       2364     Virus: Virus Buster Serge   \n",
      "\n",
      "                                                  genres   type episodes  \\\n",
      "147    Comedy, Demons, Fantasy, Historical, Mystery, ...    OVA        2   \n",
      "1668   Adventure, Drama, Fantasy, Horror, Shounen, Su...    OVA        6   \n",
      "10866                     Action, Mecha, Romance, Sci-Fi  Movie        1   \n",
      "7650                                     Dementia, Music  Music        1   \n",
      "8599                                     Adventure, Kids  Movie        1   \n",
      "...                                                  ...    ...      ...   \n",
      "11964                                    Hentai, Romance    OVA        2   \n",
      "5191                                           Adventure  Movie        1   \n",
      "5390   Adventure, Mecha, Military, Sci-Fi, Shounen, S...    OVA        6   \n",
      "860                 Music, School, Shoujo, Slice of Life  Movie        1   \n",
      "7270            Action, Adventure, Mecha, Police, Sci-Fi     TV       12   \n",
      "\n",
      "       rating  members                                  combined_features  \n",
      "147      8.41    67261  Comedy, Demons, Fantasy, Historical, Mystery, ...  \n",
      "1668     7.47    24523  Adventure, Drama, Fantasy, Horror, Shounen, Su...  \n",
      "10866    6.35     1859        Action, Mecha, Romance, Sci-Fi Zegapain ADP  \n",
      "7650     5.19      568                     Dementia, Music Mononoke Dance  \n",
      "8599     6.50       95         Adventure, Kids Gamba to Kawauso no Bouken  \n",
      "...       ...      ...                                                ...  \n",
      "11964    5.82      695                           Hentai, Romance Milkyway  \n",
      "5191     6.53      252              Adventure Tondemo Nezumi Daikatsuyaku  \n",
      "5390     6.47     6760  Adventure, Mecha, Military, Sci-Fi, Shounen, S...  \n",
      "860      7.79     2813  Music, School, Shoujo, Slice of Life Aikatsu! ...  \n",
      "7270     5.59     2250  Action, Adventure, Mecha, Police, Sci-Fi Virus...  \n",
      "\n",
      "[2459 rows x 8 columns]\n"
     ]
    }
   ],
   "source": [
    "print(train_data, test_data)"
   ]
  },
  {
   "cell_type": "markdown",
   "id": "76be8c5a-29e6-4b33-9fe2-454c0d3e38e2",
   "metadata": {
    "tags": []
   },
   "source": [
    "from sklearn.metrics import precision_score, recall_score, f1_score\n",
    "\n",
    "actual_anime = anime_data\n",
    "\n",
    "def evaluate_recommendations(recommended_anime, actual_anime):\n",
    "    \"\"\"Evaluates recommendations based on precision, recall, and F1-score.\"\"\"\n",
    "\n",
    "    precision = precision_score(actual_anime, recommended_anime)\n",
    "    recall = recall_score(actual_anime, recommended_anime)\n",
    "    f1 = f1_score(actual_anime, recommended_anime)\n",
    "\n",
    "    return precision, recall, f1\n",
    "\n",
    "# Example usage\n",
    "def get_actual_anime_watched(user_id):\n",
    "    \"\"\"Retrieves the anime watched by a given user.\"\"\"\n",
    "\n",
    "    # Filter the dataset for the specified user\n",
    "    user_data = anime_data[anime_data['anime_id'] == user_id]\n",
    "\n",
    "    # Extract the anime IDs(name)\n",
    "    actual_anime_watched = user_data['title'].tolist()\n",
    "\n",
    "    return actual_anime_watched\n",
    "\n",
    "#Assuming you have a function to get actual anime watched by a user\n",
    "user_id = 123  # Replace with actual user ID\n",
    "actual_anime_watched = get_actual_anime_watched(user_id)  # Implement this function\n",
    "\n",
    "recommended_anime = recommend_anime(anime_to_recommend)\n",
    "\n",
    "precision, recall, f1 = evaluate_recommendations(recommended_anime, actual_anime_watched)\n",
    "print(\"Precision:\", precision)\n",
    "print(\"Recall:\", recall)\n",
    "print(\"F1-score:\", f1)"
   ]
  },
  {
   "cell_type": "code",
   "execution_count": 30,
   "id": "278b7644-5304-4b0f-b53b-e6ec94b7f944",
   "metadata": {},
   "outputs": [
    {
     "ename": "TypeError",
     "evalue": "'Series' object is not callable",
     "output_type": "error",
     "traceback": [
      "\u001b[1;31m---------------------------------------------------------------------------\u001b[0m",
      "\u001b[1;31mTypeError\u001b[0m                                 Traceback (most recent call last)",
      "Cell \u001b[1;32mIn[30], line 24\u001b[0m\n\u001b[0;32m     21\u001b[0m     \u001b[38;5;28;01mreturn\u001b[39;00m precision, recall, f1\n\u001b[0;32m     23\u001b[0m \u001b[38;5;66;03m# Example: Evaluate recommendation for a popular anime\u001b[39;00m\n\u001b[1;32m---> 24\u001b[0m precision, recall, f1 \u001b[38;5;241m=\u001b[39m \u001b[43mevaluate_recommendations\u001b[49m\u001b[43m(\u001b[49m\u001b[38;5;124;43m\"\u001b[39;49m\u001b[38;5;124;43mDeath Note\u001b[39;49m\u001b[38;5;124;43m\"\u001b[39;49m\u001b[43m,\u001b[49m\u001b[43m \u001b[49m\u001b[43mcosine_sim\u001b[49m\u001b[43m,\u001b[49m\u001b[43m \u001b[49m\u001b[43manime_data\u001b[49m\u001b[43m)\u001b[49m\n\u001b[0;32m     26\u001b[0m \u001b[38;5;66;03m# Display precision, recall, and F1-score\u001b[39;00m\n\u001b[0;32m     27\u001b[0m \u001b[38;5;28mprint\u001b[39m(\u001b[38;5;124mf\u001b[39m\u001b[38;5;124m'\u001b[39m\u001b[38;5;124mPrecision: \u001b[39m\u001b[38;5;132;01m{\u001b[39;00mprecision\u001b[38;5;132;01m}\u001b[39;00m\u001b[38;5;124m'\u001b[39m)\n",
      "Cell \u001b[1;32mIn[30], line 8\u001b[0m, in \u001b[0;36mevaluate_recommendations\u001b[1;34m(anime_to_recommend, cosine_sim, anime_data)\u001b[0m\n\u001b[0;32m      6\u001b[0m \u001b[38;5;28;01mdef\u001b[39;00m \u001b[38;5;21mevaluate_recommendations\u001b[39m(anime_to_recommend, cosine_sim, anime_data):\n\u001b[0;32m      7\u001b[0m     \u001b[38;5;66;03m# Get recommendations\u001b[39;00m\n\u001b[1;32m----> 8\u001b[0m     recommended_anime \u001b[38;5;241m=\u001b[39m \u001b[43mget_recommendations\u001b[49m\u001b[43m(\u001b[49m\u001b[43manime_to_recommend\u001b[49m\u001b[43m,\u001b[49m\u001b[43m \u001b[49m\u001b[43mcosine_sim\u001b[49m\u001b[43m,\u001b[49m\u001b[43m \u001b[49m\u001b[43manime_data\u001b[49m\u001b[43m,\u001b[49m\u001b[43m \u001b[49m\u001b[43mnum_recommendations\u001b[49m\u001b[38;5;241;43m=\u001b[39;49m\u001b[38;5;241;43m10\u001b[39;49m\u001b[43m)\u001b[49m\n\u001b[0;32m     10\u001b[0m     \u001b[38;5;66;03m# True likes based on the \"liked\" threshold\u001b[39;00m\n\u001b[0;32m     11\u001b[0m     true_likes \u001b[38;5;241m=\u001b[39m anime_data[\u001b[38;5;124m'\u001b[39m\u001b[38;5;124mliked\u001b[39m\u001b[38;5;124m'\u001b[39m]\u001b[38;5;241m.\u001b[39mvalues\n",
      "\u001b[1;31mTypeError\u001b[0m: 'Series' object is not callable"
     ]
    }
   ],
   "source": [
    "get_recommendations = recommended_anime\n",
    "\n",
    "liked_threshold = 7.5\n",
    "anime_data['liked'] = anime_data['rating'] >= liked_threshold\n",
    "\n",
    "def evaluate_recommendations(target_anime, cosine_sim, anime_data):\n",
    "    # Get recommendations\n",
    "    recommended_anime = get_recommendations(target_anime, cosine_sim, anime_data, num_recommendations=10)\n",
    "    \n",
    "    # True likes based on the \"liked\" threshold\n",
    "    true_likes = anime_data['liked'].values\n",
    "    \n",
    "    # Predicted likes (1 if in recommended anime, else 0)\n",
    "    predicted_likes = [1 if i in recommended_anime.index else 0 for i in range(len(anime_data))]\n",
    "    \n",
    "    # Calculate precision, recall, and F1-score\n",
    "    precision = precision_score(true_likes, predicted_likes)\n",
    "    recall = recall_score(true_likes, predicted_likes)\n",
    "    f1 = f1_score(true_likes, predicted_likes)\n",
    "    \n",
    "    return precision, recall, f1\n",
    "\n",
    "# Example: Evaluate recommendation for a popular anime\n",
    "precision, recall, f1 = evaluate_recommendations(\"Death Note\", cosine_sim, anime_data)\n",
    "\n",
    "# Display precision, recall, and F1-score\n",
    "print(f'Precision: {precision}')\n",
    "print(f'Recall: {recall}')\n",
    "print(f'F1-Score: {f1}')"
   ]
  },
  {
   "cell_type": "code",
   "execution_count": 22,
   "id": "b689d46b-62fe-423d-b3ec-0edb8bc9e1e6",
   "metadata": {
    "tags": []
   },
   "outputs": [
    {
     "name": "stdout",
     "output_type": "stream",
     "text": [
      "Index(['anime_id', 'title', 'genres', 'type', 'episodes', 'rating', 'members',\n",
      "       'combined_features', 'liked'],\n",
      "      dtype='object')\n"
     ]
    }
   ],
   "source": [
    "print(anime_data)"
   ]
  },
  {
   "cell_type": "markdown",
   "id": "5f74b70d-7747-42e1-943e-683f7b41d390",
   "metadata": {},
   "source": [
    "1. Can you explain the difference between user-based and item-based collaborative filtering?\n",
    "ans = \n",
    "User-based filtering: This method finds users similar to the target user based on their ratings or preferences. Recommendations are made by selecting items liked by similar users.\n",
    "\n",
    "Item-based filtering: Instead of comparing users, item-based filtering compares items (in this case, anime). It recommends items that are similar to those the user has already liked."
   ]
  },
  {
   "cell_type": "markdown",
   "id": "74421a2e-ecaa-4ced-afca-3cb45b2366ca",
   "metadata": {},
   "source": [
    "2.What is collaborative filtering, and how does it work?\n",
    "ans = Collaborative filtering is a method used by recommendation systems to make predictions based on user interactions (e.g., ratings or clicks). It works by either finding similarities between users (user-based) or items (item-based) to recommend items that similar users liked or similar items that a user has liked. This approach is data-driven and leverages large datasets of user behavior."
   ]
  },
  {
   "cell_type": "code",
   "execution_count": null,
   "id": "95229a22-91b1-4d16-a7a4-dc032157ef6a",
   "metadata": {},
   "outputs": [],
   "source": []
  }
 ],
 "metadata": {
  "kernelspec": {
   "display_name": "Python 3 (ipykernel)",
   "language": "python",
   "name": "python3"
  },
  "language_info": {
   "codemirror_mode": {
    "name": "ipython",
    "version": 3
   },
   "file_extension": ".py",
   "mimetype": "text/x-python",
   "name": "python",
   "nbconvert_exporter": "python",
   "pygments_lexer": "ipython3",
   "version": "3.11.7"
  }
 },
 "nbformat": 4,
 "nbformat_minor": 5
}
