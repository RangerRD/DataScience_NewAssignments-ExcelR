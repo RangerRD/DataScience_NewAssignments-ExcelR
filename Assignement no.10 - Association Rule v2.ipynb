{
 "cells": [
  {
   "cell_type": "code",
   "execution_count": 1,
   "id": "d1996bce-d151-4c46-a8c1-e4a4df4894e5",
   "metadata": {
    "tags": []
   },
   "outputs": [],
   "source": [
    "import pandas as pd"
   ]
  },
  {
   "cell_type": "code",
   "execution_count": 3,
   "id": "640b7230-74c3-4771-9746-53eb1dc5eb2f",
   "metadata": {
    "tags": []
   },
   "outputs": [],
   "source": [
    "data = pd.read_excel('Online retail.xlsx')"
   ]
  },
  {
   "cell_type": "code",
   "execution_count": 5,
   "id": "f0a54ec9-3a27-4fa8-af1a-1071ea96b22f",
   "metadata": {
    "tags": []
   },
   "outputs": [
    {
     "data": {
      "text/html": [
       "<div>\n",
       "<style scoped>\n",
       "    .dataframe tbody tr th:only-of-type {\n",
       "        vertical-align: middle;\n",
       "    }\n",
       "\n",
       "    .dataframe tbody tr th {\n",
       "        vertical-align: top;\n",
       "    }\n",
       "\n",
       "    .dataframe thead th {\n",
       "        text-align: right;\n",
       "    }\n",
       "</style>\n",
       "<table border=\"1\" class=\"dataframe\">\n",
       "  <thead>\n",
       "    <tr style=\"text-align: right;\">\n",
       "      <th></th>\n",
       "      <th>shrimp,almonds,avocado,vegetables mix,green grapes,whole weat flour,yams,cottage cheese,energy drink,tomato juice,low fat yogurt,green tea,honey,salad,mineral water,salmon,antioxydant juice,frozen smoothie,spinach,olive oil</th>\n",
       "    </tr>\n",
       "  </thead>\n",
       "  <tbody>\n",
       "    <tr>\n",
       "      <th>0</th>\n",
       "      <td>burgers,meatballs,eggs</td>\n",
       "    </tr>\n",
       "    <tr>\n",
       "      <th>1</th>\n",
       "      <td>chutney</td>\n",
       "    </tr>\n",
       "    <tr>\n",
       "      <th>2</th>\n",
       "      <td>turkey,avocado</td>\n",
       "    </tr>\n",
       "    <tr>\n",
       "      <th>3</th>\n",
       "      <td>mineral water,milk,energy bar,whole wheat rice...</td>\n",
       "    </tr>\n",
       "    <tr>\n",
       "      <th>4</th>\n",
       "      <td>low fat yogurt</td>\n",
       "    </tr>\n",
       "  </tbody>\n",
       "</table>\n",
       "</div>"
      ],
      "text/plain": [
       "  shrimp,almonds,avocado,vegetables mix,green grapes,whole weat flour,yams,cottage cheese,energy drink,tomato juice,low fat yogurt,green tea,honey,salad,mineral water,salmon,antioxydant juice,frozen smoothie,spinach,olive oil\n",
       "0                             burgers,meatballs,eggs                                                                                                                                                                             \n",
       "1                                            chutney                                                                                                                                                                             \n",
       "2                                     turkey,avocado                                                                                                                                                                             \n",
       "3  mineral water,milk,energy bar,whole wheat rice...                                                                                                                                                                             \n",
       "4                                     low fat yogurt                                                                                                                                                                             "
      ]
     },
     "execution_count": 5,
     "metadata": {},
     "output_type": "execute_result"
    }
   ],
   "source": [
    "data.head()"
   ]
  },
  {
   "cell_type": "code",
   "execution_count": 7,
   "id": "89697d78-d3fa-42cc-8842-968defff26c6",
   "metadata": {
    "tags": []
   },
   "outputs": [
    {
     "data": {
      "text/html": [
       "<div>\n",
       "<style scoped>\n",
       "    .dataframe tbody tr th:only-of-type {\n",
       "        vertical-align: middle;\n",
       "    }\n",
       "\n",
       "    .dataframe tbody tr th {\n",
       "        vertical-align: top;\n",
       "    }\n",
       "\n",
       "    .dataframe thead th {\n",
       "        text-align: right;\n",
       "    }\n",
       "</style>\n",
       "<table border=\"1\" class=\"dataframe\">\n",
       "  <thead>\n",
       "    <tr style=\"text-align: right;\">\n",
       "      <th></th>\n",
       "      <th>shrimp,almonds,avocado,vegetables mix,green grapes,whole weat flour,yams,cottage cheese,energy drink,tomato juice,low fat yogurt,green tea,honey,salad,mineral water,salmon,antioxydant juice,frozen smoothie,spinach,olive oil</th>\n",
       "    </tr>\n",
       "  </thead>\n",
       "  <tbody>\n",
       "    <tr>\n",
       "      <th>7495</th>\n",
       "      <td>butter,light mayo,fresh bread</td>\n",
       "    </tr>\n",
       "    <tr>\n",
       "      <th>7496</th>\n",
       "      <td>burgers,frozen vegetables,eggs,french fries,ma...</td>\n",
       "    </tr>\n",
       "    <tr>\n",
       "      <th>7497</th>\n",
       "      <td>chicken</td>\n",
       "    </tr>\n",
       "    <tr>\n",
       "      <th>7498</th>\n",
       "      <td>escalope,green tea</td>\n",
       "    </tr>\n",
       "    <tr>\n",
       "      <th>7499</th>\n",
       "      <td>eggs,frozen smoothie,yogurt cake,low fat yogurt</td>\n",
       "    </tr>\n",
       "  </tbody>\n",
       "</table>\n",
       "</div>"
      ],
      "text/plain": [
       "     shrimp,almonds,avocado,vegetables mix,green grapes,whole weat flour,yams,cottage cheese,energy drink,tomato juice,low fat yogurt,green tea,honey,salad,mineral water,salmon,antioxydant juice,frozen smoothie,spinach,olive oil\n",
       "7495                      butter,light mayo,fresh bread                                                                                                                                                                             \n",
       "7496  burgers,frozen vegetables,eggs,french fries,ma...                                                                                                                                                                             \n",
       "7497                                            chicken                                                                                                                                                                             \n",
       "7498                                 escalope,green tea                                                                                                                                                                             \n",
       "7499    eggs,frozen smoothie,yogurt cake,low fat yogurt                                                                                                                                                                             "
      ]
     },
     "execution_count": 7,
     "metadata": {},
     "output_type": "execute_result"
    }
   ],
   "source": [
    "data.tail()"
   ]
  },
  {
   "cell_type": "code",
   "execution_count": 9,
   "id": "15aa7355-5023-4618-a0af-ebdc4d275da9",
   "metadata": {
    "tags": []
   },
   "outputs": [
    {
     "data": {
      "text/html": [
       "<div>\n",
       "<style scoped>\n",
       "    .dataframe tbody tr th:only-of-type {\n",
       "        vertical-align: middle;\n",
       "    }\n",
       "\n",
       "    .dataframe tbody tr th {\n",
       "        vertical-align: top;\n",
       "    }\n",
       "\n",
       "    .dataframe thead th {\n",
       "        text-align: right;\n",
       "    }\n",
       "</style>\n",
       "<table border=\"1\" class=\"dataframe\">\n",
       "  <thead>\n",
       "    <tr style=\"text-align: right;\">\n",
       "      <th></th>\n",
       "      <th>shrimp,almonds,avocado,vegetables mix,green grapes,whole weat flour,yams,cottage cheese,energy drink,tomato juice,low fat yogurt,green tea,honey,salad,mineral water,salmon,antioxydant juice,frozen smoothie,spinach,olive oil</th>\n",
       "    </tr>\n",
       "  </thead>\n",
       "  <tbody>\n",
       "    <tr>\n",
       "      <th>count</th>\n",
       "      <td>7500</td>\n",
       "    </tr>\n",
       "    <tr>\n",
       "      <th>unique</th>\n",
       "      <td>5175</td>\n",
       "    </tr>\n",
       "    <tr>\n",
       "      <th>top</th>\n",
       "      <td>cookies</td>\n",
       "    </tr>\n",
       "    <tr>\n",
       "      <th>freq</th>\n",
       "      <td>223</td>\n",
       "    </tr>\n",
       "  </tbody>\n",
       "</table>\n",
       "</div>"
      ],
      "text/plain": [
       "       shrimp,almonds,avocado,vegetables mix,green grapes,whole weat flour,yams,cottage cheese,energy drink,tomato juice,low fat yogurt,green tea,honey,salad,mineral water,salmon,antioxydant juice,frozen smoothie,spinach,olive oil\n",
       "count                                                7500                                                                                                                                                                             \n",
       "unique                                               5175                                                                                                                                                                             \n",
       "top                                               cookies                                                                                                                                                                             \n",
       "freq                                                  223                                                                                                                                                                             "
      ]
     },
     "execution_count": 9,
     "metadata": {},
     "output_type": "execute_result"
    }
   ],
   "source": [
    "data.describe()"
   ]
  },
  {
   "cell_type": "code",
   "execution_count": 11,
   "id": "2a9c3308-26fe-47ae-98eb-051fc97eddad",
   "metadata": {
    "tags": []
   },
   "outputs": [
    {
     "name": "stdout",
     "output_type": "stream",
     "text": [
      "<class 'pandas.core.frame.DataFrame'>\n",
      "RangeIndex: 7500 entries, 0 to 7499\n",
      "Data columns (total 1 columns):\n",
      " #   Column                                                                                                                                                                                                                           Non-Null Count  Dtype \n",
      "---  ------                                                                                                                                                                                                                           --------------  ----- \n",
      " 0   shrimp,almonds,avocado,vegetables mix,green grapes,whole weat flour,yams,cottage cheese,energy drink,tomato juice,low fat yogurt,green tea,honey,salad,mineral water,salmon,antioxydant juice,frozen smoothie,spinach,olive oil  7500 non-null   object\n",
      "dtypes: object(1)\n",
      "memory usage: 58.7+ KB\n"
     ]
    }
   ],
   "source": [
    "data.info()"
   ]
  },
  {
   "cell_type": "code",
   "execution_count": 13,
   "id": "1f84bcfa-3e57-412f-853b-189f5928af83",
   "metadata": {
    "tags": []
   },
   "outputs": [],
   "source": [
    "sample_data = data.sample(n=20, random_state=42)"
   ]
  },
  {
   "cell_type": "code",
   "execution_count": 15,
   "id": "691971bb-2a45-423f-9a2f-4590705a918c",
   "metadata": {
    "tags": []
   },
   "outputs": [
    {
     "name": "stdout",
     "output_type": "stream",
     "text": [
      "     shrimp,almonds,avocado,vegetables mix,green grapes,whole weat flour,yams,cottage cheese,energy drink,tomato juice,low fat yogurt,green tea,honey,salad,mineral water,salmon,antioxydant juice,frozen smoothie,spinach,olive oil\n",
      "970                                      eggs,champagne                                                                                                                                                                             \n",
      "6279                                       burgers,milk                                                                                                                                                                             \n",
      "1859       tomatoes,french fries,body spray,yogurt cake                                                                                                                                                                             \n",
      "6803                                            cookies                                                                                                                                                                             \n",
      "6305                              mineral water,carrots                                                                                                                                                                             \n",
      "3039  shrimp,mineral water,milk,almonds,whole wheat ...                                                                                                                                                                             \n",
      "7194                             burgers,escalope,pasta                                                                                                                                                                             \n",
      "1446                                       french fries                                                                                                                                                                             \n",
      "5199   grated cheese,herb & pepper,french fries,cookies                                                                                                                                                                             \n",
      "6234  tomatoes,mineral water,eggs,ketchup,corn,pancakes                                                                                                                                                                             \n",
      "4316                                    shrimp,tomatoes                                                                                                                                                                             \n",
      "5922                              mineral water,avocado                                                                                                                                                                             \n",
      "6027                         milk,brownies,tomato juice                                                                                                                                                                             \n",
      "1850                        frozen vegetables,spaghetti                                                                                                                                                                             \n",
      "429                                             cookies                                                                                                                                                                             \n",
      "101   turkey,burgers,ground beef,chocolate,soup,almo...                                                                                                                                                                             \n",
      "4707                    butter,french fries,protein bar                                                                                                                                                                             \n",
      "465    grated cheese,mineral water,cake,chocolate bread                                                                                                                                                                             \n",
      "4129                      mineral water,green tea,honey                                                                                                                                                                             \n",
      "4828  shrimp,tomatoes,spaghetti,mineral water,salmon...                                                                                                                                                                             \n"
     ]
    }
   ],
   "source": [
    "print(sample_data)"
   ]
  },
  {
   "cell_type": "code",
   "execution_count": 18,
   "id": "8d4e32dc-b23c-47f5-8931-9b96269576d1",
   "metadata": {
    "tags": []
   },
   "outputs": [],
   "source": [
    "from mlxtend.frequent_patterns import apriori, association_rules\n",
    "from mlxtend.preprocessing import TransactionEncoder\n",
    "\n",
    "# Sample transactions\n",
    "transactions = [\n",
    "    ['burgers', 'meatballs', 'eggs'],\n",
    "    ['chutney'],\n",
    "    ['turkey', 'avocado'],\n",
    "    ['mineral water', 'milk', 'energy bar', 'whole wheat rice', 'green tea'],\n",
    "    ['low fat yogurt'],\n",
    "    ['eggs,champagne'],\n",
    "    ['burgers,milk'],\n",
    "    ['tomatoes,french fries,body spray,yogurt cake '],\n",
    "    ['cookies'],\n",
    "    ['mineral water,carrots']\n",
    "    \n",
    "    # Add more transactions as needed\n",
    "]\n"
   ]
  },
  {
   "cell_type": "code",
   "execution_count": 21,
   "id": "0691e8db-bf32-4f11-aa94-fc222401ea47",
   "metadata": {
    "tags": []
   },
   "outputs": [
    {
     "name": "stdout",
     "output_type": "stream",
     "text": [
      "            antecedents                                        consequents  \\\n",
      "0             (avocado)                                           (turkey)   \n",
      "1              (turkey)                                          (avocado)   \n",
      "2                (eggs)                                          (burgers)   \n",
      "3             (burgers)                                             (eggs)   \n",
      "4             (burgers)                                        (meatballs)   \n",
      "..                  ...                                                ...   \n",
      "189  (whole wheat rice)       (green tea, mineral water, milk, energy bar)   \n",
      "190              (milk)  (green tea, mineral water, whole wheat rice, e...   \n",
      "191         (green tea)  (mineral water, whole wheat rice, milk, energy...   \n",
      "192     (mineral water)    (green tea, whole wheat rice, milk, energy bar)   \n",
      "193        (energy bar)  (green tea, mineral water, whole wheat rice, m...   \n",
      "\n",
      "     antecedent support  consequent support  support  confidence  lift  \\\n",
      "0                   0.1                 0.1      0.1         1.0  10.0   \n",
      "1                   0.1                 0.1      0.1         1.0  10.0   \n",
      "2                   0.1                 0.1      0.1         1.0  10.0   \n",
      "3                   0.1                 0.1      0.1         1.0  10.0   \n",
      "4                   0.1                 0.1      0.1         1.0  10.0   \n",
      "..                  ...                 ...      ...         ...   ...   \n",
      "189                 0.1                 0.1      0.1         1.0  10.0   \n",
      "190                 0.1                 0.1      0.1         1.0  10.0   \n",
      "191                 0.1                 0.1      0.1         1.0  10.0   \n",
      "192                 0.1                 0.1      0.1         1.0  10.0   \n",
      "193                 0.1                 0.1      0.1         1.0  10.0   \n",
      "\n",
      "     leverage  conviction  zhangs_metric  \n",
      "0        0.09         inf            1.0  \n",
      "1        0.09         inf            1.0  \n",
      "2        0.09         inf            1.0  \n",
      "3        0.09         inf            1.0  \n",
      "4        0.09         inf            1.0  \n",
      "..        ...         ...            ...  \n",
      "189      0.09         inf            1.0  \n",
      "190      0.09         inf            1.0  \n",
      "191      0.09         inf            1.0  \n",
      "192      0.09         inf            1.0  \n",
      "193      0.09         inf            1.0  \n",
      "\n",
      "[194 rows x 10 columns]\n"
     ]
    }
   ],
   "source": [
    "# Step 1: Preprocess the Data\n",
    "# Convert the transactions list into a format suitable for apriori\n",
    "te = TransactionEncoder()\n",
    "te_ary = te.fit(transactions).transform(transactions)\n",
    "df = pd.DataFrame(te_ary, columns=te.columns_)\n",
    "\n",
    "# Step 2: Apply the Apriori Algorithm\n",
    "frequent_itemsets = apriori(df, min_support=0.1, use_colnames=True)\n",
    "\n",
    "# Step 3: Generate Association Rules\n",
    "rules = association_rules(frequent_itemsets, metric=\"confidence\", min_threshold=0.5)\n",
    "\n",
    "# Display the rules\n",
    "print(rules)"
   ]
  },
  {
   "cell_type": "markdown",
   "id": "7825f41f-be8d-4841-b7e8-c1349ffba81c",
   "metadata": {},
   "source": [
    "1.\tWhat is lift and why is it important in Association rules?\n",
    "ANS = Lift is a key metric used in association rule mining, a technique in data mining that identifies relationships between variables in large datasets. Lift measures how much more likely the occurrence of two items (antecedent and consequent) together is than would be expected if the items were independent."
   ]
  },
  {
   "cell_type": "markdown",
   "id": "2fc58c18-63d5-458f-8c63-2e84498f6e38",
   "metadata": {},
   "source": [
    "2.\tWhat is support and Confidence. How do you calculate them?\n",
    "ANS = Support indicates how frequently an itemset appears in the dataset. It reflects the proportion of transactions in the dataset that contain a specific itemset.\n",
    "\n",
    "Confidence measures the likelihood of the consequent occurring given that the antecedent has occurred. It is the conditional probability that B occurs, given that A occurs."
   ]
  },
  {
   "cell_type": "markdown",
   "id": "cecde505-5580-4073-b97f-913def7f487f",
   "metadata": {},
   "source": [
    "3.\tWhat are some limitations or challenges of Association rules mining?\n",
    "ANS = Association rule mining is a powerful technique for discovering interesting patterns in large datasets, but it comes with several limitations and challenges\n",
    "1. Scalability and Efficiency\n",
    "2. Handling Rare Items\n",
    "3. verwhelming Number of Rules\n",
    "4. Low Confidence or Lift\n",
    "5. Difficulty in Handling Continuous Data"
   ]
  },
  {
   "cell_type": "code",
   "execution_count": null,
   "id": "93f8328d-8554-4562-b48f-27746841f79b",
   "metadata": {},
   "outputs": [],
   "source": []
  }
 ],
 "metadata": {
  "kernelspec": {
   "display_name": "Python 3 (ipykernel)",
   "language": "python",
   "name": "python3"
  },
  "language_info": {
   "codemirror_mode": {
    "name": "ipython",
    "version": 3
   },
   "file_extension": ".py",
   "mimetype": "text/x-python",
   "name": "python",
   "nbconvert_exporter": "python",
   "pygments_lexer": "ipython3",
   "version": "3.11.7"
  }
 },
 "nbformat": 4,
 "nbformat_minor": 5
}
