{
 "cells": [
  {
   "cell_type": "code",
   "execution_count": 1,
   "id": "aabd80b6-2dc6-407c-a4e0-0ce95a9f3f29",
   "metadata": {
    "tags": []
   },
   "outputs": [],
   "source": [
    "import pandas as pd\n",
    "import matplotlib.pyplot as plt\n",
    "import seaborn as sns\n",
    "import numpy as np\n",
    "from sklearn.model_selection import train_test_split\n",
    "from sklearn.linear_model import LinearRegression, Lasso, Ridge\n",
    "from sklearn.metrics import mean_squared_error, r2_score\n",
    "from sklearn.preprocessing import StandardScaler, OneHotEncoder\n",
    "from sklearn.compose import ColumnTransformer\n",
    "from sklearn.pipeline import Pipeline"
   ]
  },
  {
   "cell_type": "code",
   "execution_count": 2,
   "id": "aebb21fe-6ef1-44dc-84b2-b7f4fdb4db9f",
   "metadata": {},
   "outputs": [],
   "source": [
    "file_path = \"Desktop\\Classes\\ExcelR\\Assignments\\Assignment - 6\\MLR\\MLR\\ToyotaCorolla - MLR.csv\""
   ]
  },
  {
   "cell_type": "code",
   "execution_count": 3,
   "id": "c3ce908a-6ffb-46b3-a060-785b4b875ad4",
   "metadata": {
    "tags": []
   },
   "outputs": [],
   "source": [
    "df = pd.read_csv(file_path)"
   ]
  },
  {
   "cell_type": "code",
   "execution_count": 4,
   "id": "ad147a29-011c-4b93-93bd-6aaf1f2e1791",
   "metadata": {
    "tags": []
   },
   "outputs": [
    {
     "data": {
      "text/html": [
       "<div>\n",
       "<style scoped>\n",
       "    .dataframe tbody tr th:only-of-type {\n",
       "        vertical-align: middle;\n",
       "    }\n",
       "\n",
       "    .dataframe tbody tr th {\n",
       "        vertical-align: top;\n",
       "    }\n",
       "\n",
       "    .dataframe thead th {\n",
       "        text-align: right;\n",
       "    }\n",
       "</style>\n",
       "<table border=\"1\" class=\"dataframe\">\n",
       "  <thead>\n",
       "    <tr style=\"text-align: right;\">\n",
       "      <th></th>\n",
       "      <th>Price</th>\n",
       "      <th>Age_08_04</th>\n",
       "      <th>KM</th>\n",
       "      <th>Fuel_Type</th>\n",
       "      <th>HP</th>\n",
       "      <th>Automatic</th>\n",
       "      <th>cc</th>\n",
       "      <th>Doors</th>\n",
       "      <th>Cylinders</th>\n",
       "      <th>Gears</th>\n",
       "      <th>Weight</th>\n",
       "    </tr>\n",
       "  </thead>\n",
       "  <tbody>\n",
       "    <tr>\n",
       "      <th>0</th>\n",
       "      <td>13500</td>\n",
       "      <td>23</td>\n",
       "      <td>46986</td>\n",
       "      <td>Diesel</td>\n",
       "      <td>90</td>\n",
       "      <td>0</td>\n",
       "      <td>2000</td>\n",
       "      <td>3</td>\n",
       "      <td>4</td>\n",
       "      <td>5</td>\n",
       "      <td>1165</td>\n",
       "    </tr>\n",
       "    <tr>\n",
       "      <th>1</th>\n",
       "      <td>13750</td>\n",
       "      <td>23</td>\n",
       "      <td>72937</td>\n",
       "      <td>Diesel</td>\n",
       "      <td>90</td>\n",
       "      <td>0</td>\n",
       "      <td>2000</td>\n",
       "      <td>3</td>\n",
       "      <td>4</td>\n",
       "      <td>5</td>\n",
       "      <td>1165</td>\n",
       "    </tr>\n",
       "    <tr>\n",
       "      <th>2</th>\n",
       "      <td>13950</td>\n",
       "      <td>24</td>\n",
       "      <td>41711</td>\n",
       "      <td>Diesel</td>\n",
       "      <td>90</td>\n",
       "      <td>0</td>\n",
       "      <td>2000</td>\n",
       "      <td>3</td>\n",
       "      <td>4</td>\n",
       "      <td>5</td>\n",
       "      <td>1165</td>\n",
       "    </tr>\n",
       "    <tr>\n",
       "      <th>3</th>\n",
       "      <td>14950</td>\n",
       "      <td>26</td>\n",
       "      <td>48000</td>\n",
       "      <td>Diesel</td>\n",
       "      <td>90</td>\n",
       "      <td>0</td>\n",
       "      <td>2000</td>\n",
       "      <td>3</td>\n",
       "      <td>4</td>\n",
       "      <td>5</td>\n",
       "      <td>1165</td>\n",
       "    </tr>\n",
       "    <tr>\n",
       "      <th>4</th>\n",
       "      <td>13750</td>\n",
       "      <td>30</td>\n",
       "      <td>38500</td>\n",
       "      <td>Diesel</td>\n",
       "      <td>90</td>\n",
       "      <td>0</td>\n",
       "      <td>2000</td>\n",
       "      <td>3</td>\n",
       "      <td>4</td>\n",
       "      <td>5</td>\n",
       "      <td>1170</td>\n",
       "    </tr>\n",
       "    <tr>\n",
       "      <th>5</th>\n",
       "      <td>12950</td>\n",
       "      <td>32</td>\n",
       "      <td>61000</td>\n",
       "      <td>Diesel</td>\n",
       "      <td>90</td>\n",
       "      <td>0</td>\n",
       "      <td>2000</td>\n",
       "      <td>3</td>\n",
       "      <td>4</td>\n",
       "      <td>5</td>\n",
       "      <td>1170</td>\n",
       "    </tr>\n",
       "    <tr>\n",
       "      <th>6</th>\n",
       "      <td>16900</td>\n",
       "      <td>27</td>\n",
       "      <td>94612</td>\n",
       "      <td>Diesel</td>\n",
       "      <td>90</td>\n",
       "      <td>0</td>\n",
       "      <td>2000</td>\n",
       "      <td>3</td>\n",
       "      <td>4</td>\n",
       "      <td>5</td>\n",
       "      <td>1245</td>\n",
       "    </tr>\n",
       "    <tr>\n",
       "      <th>7</th>\n",
       "      <td>18600</td>\n",
       "      <td>30</td>\n",
       "      <td>75889</td>\n",
       "      <td>Diesel</td>\n",
       "      <td>90</td>\n",
       "      <td>0</td>\n",
       "      <td>2000</td>\n",
       "      <td>3</td>\n",
       "      <td>4</td>\n",
       "      <td>5</td>\n",
       "      <td>1245</td>\n",
       "    </tr>\n",
       "    <tr>\n",
       "      <th>8</th>\n",
       "      <td>21500</td>\n",
       "      <td>27</td>\n",
       "      <td>19700</td>\n",
       "      <td>Petrol</td>\n",
       "      <td>192</td>\n",
       "      <td>0</td>\n",
       "      <td>1800</td>\n",
       "      <td>3</td>\n",
       "      <td>4</td>\n",
       "      <td>5</td>\n",
       "      <td>1185</td>\n",
       "    </tr>\n",
       "    <tr>\n",
       "      <th>9</th>\n",
       "      <td>12950</td>\n",
       "      <td>23</td>\n",
       "      <td>71138</td>\n",
       "      <td>Diesel</td>\n",
       "      <td>69</td>\n",
       "      <td>0</td>\n",
       "      <td>1900</td>\n",
       "      <td>3</td>\n",
       "      <td>4</td>\n",
       "      <td>5</td>\n",
       "      <td>1105</td>\n",
       "    </tr>\n",
       "  </tbody>\n",
       "</table>\n",
       "</div>"
      ],
      "text/plain": [
       "   Price  Age_08_04     KM Fuel_Type   HP  Automatic    cc  Doors  Cylinders  \\\n",
       "0  13500         23  46986    Diesel   90          0  2000      3          4   \n",
       "1  13750         23  72937    Diesel   90          0  2000      3          4   \n",
       "2  13950         24  41711    Diesel   90          0  2000      3          4   \n",
       "3  14950         26  48000    Diesel   90          0  2000      3          4   \n",
       "4  13750         30  38500    Diesel   90          0  2000      3          4   \n",
       "5  12950         32  61000    Diesel   90          0  2000      3          4   \n",
       "6  16900         27  94612    Diesel   90          0  2000      3          4   \n",
       "7  18600         30  75889    Diesel   90          0  2000      3          4   \n",
       "8  21500         27  19700    Petrol  192          0  1800      3          4   \n",
       "9  12950         23  71138    Diesel   69          0  1900      3          4   \n",
       "\n",
       "   Gears  Weight  \n",
       "0      5    1165  \n",
       "1      5    1165  \n",
       "2      5    1165  \n",
       "3      5    1165  \n",
       "4      5    1170  \n",
       "5      5    1170  \n",
       "6      5    1245  \n",
       "7      5    1245  \n",
       "8      5    1185  \n",
       "9      5    1105  "
      ]
     },
     "execution_count": 4,
     "metadata": {},
     "output_type": "execute_result"
    }
   ],
   "source": [
    "df.head(10)"
   ]
  },
  {
   "cell_type": "code",
   "execution_count": 5,
   "id": "b606953b-be76-4e6b-80be-c91ec9866c03",
   "metadata": {
    "tags": []
   },
   "outputs": [
    {
     "data": {
      "text/html": [
       "<div>\n",
       "<style scoped>\n",
       "    .dataframe tbody tr th:only-of-type {\n",
       "        vertical-align: middle;\n",
       "    }\n",
       "\n",
       "    .dataframe tbody tr th {\n",
       "        vertical-align: top;\n",
       "    }\n",
       "\n",
       "    .dataframe thead th {\n",
       "        text-align: right;\n",
       "    }\n",
       "</style>\n",
       "<table border=\"1\" class=\"dataframe\">\n",
       "  <thead>\n",
       "    <tr style=\"text-align: right;\">\n",
       "      <th></th>\n",
       "      <th>Price</th>\n",
       "      <th>Age_08_04</th>\n",
       "      <th>KM</th>\n",
       "      <th>Fuel_Type</th>\n",
       "      <th>HP</th>\n",
       "      <th>Automatic</th>\n",
       "      <th>cc</th>\n",
       "      <th>Doors</th>\n",
       "      <th>Cylinders</th>\n",
       "      <th>Gears</th>\n",
       "      <th>Weight</th>\n",
       "    </tr>\n",
       "  </thead>\n",
       "  <tbody>\n",
       "    <tr>\n",
       "      <th>1426</th>\n",
       "      <td>9950</td>\n",
       "      <td>78</td>\n",
       "      <td>30964</td>\n",
       "      <td>Petrol</td>\n",
       "      <td>110</td>\n",
       "      <td>1</td>\n",
       "      <td>1600</td>\n",
       "      <td>3</td>\n",
       "      <td>4</td>\n",
       "      <td>4</td>\n",
       "      <td>1080</td>\n",
       "    </tr>\n",
       "    <tr>\n",
       "      <th>1427</th>\n",
       "      <td>8950</td>\n",
       "      <td>71</td>\n",
       "      <td>29000</td>\n",
       "      <td>Petrol</td>\n",
       "      <td>86</td>\n",
       "      <td>1</td>\n",
       "      <td>1300</td>\n",
       "      <td>3</td>\n",
       "      <td>4</td>\n",
       "      <td>5</td>\n",
       "      <td>1045</td>\n",
       "    </tr>\n",
       "    <tr>\n",
       "      <th>1428</th>\n",
       "      <td>8450</td>\n",
       "      <td>72</td>\n",
       "      <td>26000</td>\n",
       "      <td>Petrol</td>\n",
       "      <td>86</td>\n",
       "      <td>0</td>\n",
       "      <td>1300</td>\n",
       "      <td>3</td>\n",
       "      <td>4</td>\n",
       "      <td>5</td>\n",
       "      <td>1015</td>\n",
       "    </tr>\n",
       "    <tr>\n",
       "      <th>1429</th>\n",
       "      <td>8950</td>\n",
       "      <td>78</td>\n",
       "      <td>24000</td>\n",
       "      <td>Petrol</td>\n",
       "      <td>86</td>\n",
       "      <td>1</td>\n",
       "      <td>1300</td>\n",
       "      <td>5</td>\n",
       "      <td>4</td>\n",
       "      <td>5</td>\n",
       "      <td>1065</td>\n",
       "    </tr>\n",
       "    <tr>\n",
       "      <th>1430</th>\n",
       "      <td>8450</td>\n",
       "      <td>80</td>\n",
       "      <td>23000</td>\n",
       "      <td>Petrol</td>\n",
       "      <td>86</td>\n",
       "      <td>0</td>\n",
       "      <td>1300</td>\n",
       "      <td>3</td>\n",
       "      <td>4</td>\n",
       "      <td>5</td>\n",
       "      <td>1015</td>\n",
       "    </tr>\n",
       "    <tr>\n",
       "      <th>1431</th>\n",
       "      <td>7500</td>\n",
       "      <td>69</td>\n",
       "      <td>20544</td>\n",
       "      <td>Petrol</td>\n",
       "      <td>86</td>\n",
       "      <td>0</td>\n",
       "      <td>1300</td>\n",
       "      <td>3</td>\n",
       "      <td>4</td>\n",
       "      <td>5</td>\n",
       "      <td>1025</td>\n",
       "    </tr>\n",
       "    <tr>\n",
       "      <th>1432</th>\n",
       "      <td>10845</td>\n",
       "      <td>72</td>\n",
       "      <td>19000</td>\n",
       "      <td>Petrol</td>\n",
       "      <td>86</td>\n",
       "      <td>0</td>\n",
       "      <td>1300</td>\n",
       "      <td>3</td>\n",
       "      <td>4</td>\n",
       "      <td>5</td>\n",
       "      <td>1015</td>\n",
       "    </tr>\n",
       "    <tr>\n",
       "      <th>1433</th>\n",
       "      <td>8500</td>\n",
       "      <td>71</td>\n",
       "      <td>17016</td>\n",
       "      <td>Petrol</td>\n",
       "      <td>86</td>\n",
       "      <td>0</td>\n",
       "      <td>1300</td>\n",
       "      <td>3</td>\n",
       "      <td>4</td>\n",
       "      <td>5</td>\n",
       "      <td>1015</td>\n",
       "    </tr>\n",
       "    <tr>\n",
       "      <th>1434</th>\n",
       "      <td>7250</td>\n",
       "      <td>70</td>\n",
       "      <td>16916</td>\n",
       "      <td>Petrol</td>\n",
       "      <td>86</td>\n",
       "      <td>0</td>\n",
       "      <td>1300</td>\n",
       "      <td>3</td>\n",
       "      <td>4</td>\n",
       "      <td>5</td>\n",
       "      <td>1015</td>\n",
       "    </tr>\n",
       "    <tr>\n",
       "      <th>1435</th>\n",
       "      <td>6950</td>\n",
       "      <td>76</td>\n",
       "      <td>1</td>\n",
       "      <td>Petrol</td>\n",
       "      <td>110</td>\n",
       "      <td>0</td>\n",
       "      <td>1600</td>\n",
       "      <td>5</td>\n",
       "      <td>4</td>\n",
       "      <td>5</td>\n",
       "      <td>1114</td>\n",
       "    </tr>\n",
       "  </tbody>\n",
       "</table>\n",
       "</div>"
      ],
      "text/plain": [
       "      Price  Age_08_04     KM Fuel_Type   HP  Automatic    cc  Doors  \\\n",
       "1426   9950         78  30964    Petrol  110          1  1600      3   \n",
       "1427   8950         71  29000    Petrol   86          1  1300      3   \n",
       "1428   8450         72  26000    Petrol   86          0  1300      3   \n",
       "1429   8950         78  24000    Petrol   86          1  1300      5   \n",
       "1430   8450         80  23000    Petrol   86          0  1300      3   \n",
       "1431   7500         69  20544    Petrol   86          0  1300      3   \n",
       "1432  10845         72  19000    Petrol   86          0  1300      3   \n",
       "1433   8500         71  17016    Petrol   86          0  1300      3   \n",
       "1434   7250         70  16916    Petrol   86          0  1300      3   \n",
       "1435   6950         76      1    Petrol  110          0  1600      5   \n",
       "\n",
       "      Cylinders  Gears  Weight  \n",
       "1426          4      4    1080  \n",
       "1427          4      5    1045  \n",
       "1428          4      5    1015  \n",
       "1429          4      5    1065  \n",
       "1430          4      5    1015  \n",
       "1431          4      5    1025  \n",
       "1432          4      5    1015  \n",
       "1433          4      5    1015  \n",
       "1434          4      5    1015  \n",
       "1435          4      5    1114  "
      ]
     },
     "execution_count": 5,
     "metadata": {},
     "output_type": "execute_result"
    }
   ],
   "source": [
    "df.tail(10)"
   ]
  },
  {
   "cell_type": "code",
   "execution_count": 6,
   "id": "d7945b39-97be-42ad-8669-cbcf33e8d643",
   "metadata": {
    "tags": []
   },
   "outputs": [],
   "source": [
    "data = df.copy()"
   ]
  },
  {
   "cell_type": "code",
   "execution_count": 7,
   "id": "6d61b756-ab48-4d15-a755-b753d062f337",
   "metadata": {
    "tags": []
   },
   "outputs": [],
   "source": [
    "data_renamed = data.rename(columns={\"Age_08_04\":\"Age\", \"Fuel_Type\":\"Fuel\",\"cc\":\"CC\"},inplace=True)"
   ]
  },
  {
   "cell_type": "code",
   "execution_count": 8,
   "id": "574f0b2f-c695-4867-b509-a9347f8b8a43",
   "metadata": {
    "tags": []
   },
   "outputs": [
    {
     "name": "stdout",
     "output_type": "stream",
     "text": [
      "   Price  Age     KM    Fuel  HP  Automatic    CC  Doors  Cylinders  Gears  \\\n",
      "0  13500   23  46986  Diesel  90          0  2000      3          4      5   \n",
      "1  13750   23  72937  Diesel  90          0  2000      3          4      5   \n",
      "2  13950   24  41711  Diesel  90          0  2000      3          4      5   \n",
      "3  14950   26  48000  Diesel  90          0  2000      3          4      5   \n",
      "4  13750   30  38500  Diesel  90          0  2000      3          4      5   \n",
      "\n",
      "   Weight  \n",
      "0    1165  \n",
      "1    1165  \n",
      "2    1165  \n",
      "3    1165  \n",
      "4    1170  \n"
     ]
    }
   ],
   "source": [
    "data_renamed = data\n",
    "print(data.head())"
   ]
  },
  {
   "cell_type": "code",
   "execution_count": 9,
   "id": "ff79633f-7d62-4f4b-883c-a8bb8175a8f2",
   "metadata": {
    "tags": []
   },
   "outputs": [
    {
     "data": {
      "text/html": [
       "<div>\n",
       "<style scoped>\n",
       "    .dataframe tbody tr th:only-of-type {\n",
       "        vertical-align: middle;\n",
       "    }\n",
       "\n",
       "    .dataframe tbody tr th {\n",
       "        vertical-align: top;\n",
       "    }\n",
       "\n",
       "    .dataframe thead th {\n",
       "        text-align: right;\n",
       "    }\n",
       "</style>\n",
       "<table border=\"1\" class=\"dataframe\">\n",
       "  <thead>\n",
       "    <tr style=\"text-align: right;\">\n",
       "      <th></th>\n",
       "      <th>Price</th>\n",
       "      <th>Age</th>\n",
       "      <th>KM</th>\n",
       "      <th>Fuel</th>\n",
       "      <th>HP</th>\n",
       "      <th>Automatic</th>\n",
       "      <th>CC</th>\n",
       "      <th>Doors</th>\n",
       "      <th>Cylinders</th>\n",
       "      <th>Gears</th>\n",
       "      <th>Weight</th>\n",
       "    </tr>\n",
       "  </thead>\n",
       "  <tbody>\n",
       "    <tr>\n",
       "      <th>count</th>\n",
       "      <td>1436.000000</td>\n",
       "      <td>1436.000000</td>\n",
       "      <td>1436.000000</td>\n",
       "      <td>1436</td>\n",
       "      <td>1436.000000</td>\n",
       "      <td>1436.000000</td>\n",
       "      <td>1436.00000</td>\n",
       "      <td>1436.000000</td>\n",
       "      <td>1436.0</td>\n",
       "      <td>1436.000000</td>\n",
       "      <td>1436.00000</td>\n",
       "    </tr>\n",
       "    <tr>\n",
       "      <th>unique</th>\n",
       "      <td>NaN</td>\n",
       "      <td>NaN</td>\n",
       "      <td>NaN</td>\n",
       "      <td>3</td>\n",
       "      <td>NaN</td>\n",
       "      <td>NaN</td>\n",
       "      <td>NaN</td>\n",
       "      <td>NaN</td>\n",
       "      <td>NaN</td>\n",
       "      <td>NaN</td>\n",
       "      <td>NaN</td>\n",
       "    </tr>\n",
       "    <tr>\n",
       "      <th>top</th>\n",
       "      <td>NaN</td>\n",
       "      <td>NaN</td>\n",
       "      <td>NaN</td>\n",
       "      <td>Petrol</td>\n",
       "      <td>NaN</td>\n",
       "      <td>NaN</td>\n",
       "      <td>NaN</td>\n",
       "      <td>NaN</td>\n",
       "      <td>NaN</td>\n",
       "      <td>NaN</td>\n",
       "      <td>NaN</td>\n",
       "    </tr>\n",
       "    <tr>\n",
       "      <th>freq</th>\n",
       "      <td>NaN</td>\n",
       "      <td>NaN</td>\n",
       "      <td>NaN</td>\n",
       "      <td>1264</td>\n",
       "      <td>NaN</td>\n",
       "      <td>NaN</td>\n",
       "      <td>NaN</td>\n",
       "      <td>NaN</td>\n",
       "      <td>NaN</td>\n",
       "      <td>NaN</td>\n",
       "      <td>NaN</td>\n",
       "    </tr>\n",
       "    <tr>\n",
       "      <th>mean</th>\n",
       "      <td>10730.824513</td>\n",
       "      <td>55.947075</td>\n",
       "      <td>68533.259749</td>\n",
       "      <td>NaN</td>\n",
       "      <td>101.502089</td>\n",
       "      <td>0.055710</td>\n",
       "      <td>1576.85585</td>\n",
       "      <td>4.033426</td>\n",
       "      <td>4.0</td>\n",
       "      <td>5.026462</td>\n",
       "      <td>1072.45961</td>\n",
       "    </tr>\n",
       "    <tr>\n",
       "      <th>std</th>\n",
       "      <td>3626.964585</td>\n",
       "      <td>18.599988</td>\n",
       "      <td>37506.448872</td>\n",
       "      <td>NaN</td>\n",
       "      <td>14.981080</td>\n",
       "      <td>0.229441</td>\n",
       "      <td>424.38677</td>\n",
       "      <td>0.952677</td>\n",
       "      <td>0.0</td>\n",
       "      <td>0.188510</td>\n",
       "      <td>52.64112</td>\n",
       "    </tr>\n",
       "    <tr>\n",
       "      <th>min</th>\n",
       "      <td>4350.000000</td>\n",
       "      <td>1.000000</td>\n",
       "      <td>1.000000</td>\n",
       "      <td>NaN</td>\n",
       "      <td>69.000000</td>\n",
       "      <td>0.000000</td>\n",
       "      <td>1300.00000</td>\n",
       "      <td>2.000000</td>\n",
       "      <td>4.0</td>\n",
       "      <td>3.000000</td>\n",
       "      <td>1000.00000</td>\n",
       "    </tr>\n",
       "    <tr>\n",
       "      <th>25%</th>\n",
       "      <td>8450.000000</td>\n",
       "      <td>44.000000</td>\n",
       "      <td>43000.000000</td>\n",
       "      <td>NaN</td>\n",
       "      <td>90.000000</td>\n",
       "      <td>0.000000</td>\n",
       "      <td>1400.00000</td>\n",
       "      <td>3.000000</td>\n",
       "      <td>4.0</td>\n",
       "      <td>5.000000</td>\n",
       "      <td>1040.00000</td>\n",
       "    </tr>\n",
       "    <tr>\n",
       "      <th>50%</th>\n",
       "      <td>9900.000000</td>\n",
       "      <td>61.000000</td>\n",
       "      <td>63389.500000</td>\n",
       "      <td>NaN</td>\n",
       "      <td>110.000000</td>\n",
       "      <td>0.000000</td>\n",
       "      <td>1600.00000</td>\n",
       "      <td>4.000000</td>\n",
       "      <td>4.0</td>\n",
       "      <td>5.000000</td>\n",
       "      <td>1070.00000</td>\n",
       "    </tr>\n",
       "    <tr>\n",
       "      <th>75%</th>\n",
       "      <td>11950.000000</td>\n",
       "      <td>70.000000</td>\n",
       "      <td>87020.750000</td>\n",
       "      <td>NaN</td>\n",
       "      <td>110.000000</td>\n",
       "      <td>0.000000</td>\n",
       "      <td>1600.00000</td>\n",
       "      <td>5.000000</td>\n",
       "      <td>4.0</td>\n",
       "      <td>5.000000</td>\n",
       "      <td>1085.00000</td>\n",
       "    </tr>\n",
       "    <tr>\n",
       "      <th>max</th>\n",
       "      <td>32500.000000</td>\n",
       "      <td>80.000000</td>\n",
       "      <td>243000.000000</td>\n",
       "      <td>NaN</td>\n",
       "      <td>192.000000</td>\n",
       "      <td>1.000000</td>\n",
       "      <td>16000.00000</td>\n",
       "      <td>5.000000</td>\n",
       "      <td>4.0</td>\n",
       "      <td>6.000000</td>\n",
       "      <td>1615.00000</td>\n",
       "    </tr>\n",
       "  </tbody>\n",
       "</table>\n",
       "</div>"
      ],
      "text/plain": [
       "               Price          Age             KM    Fuel           HP  \\\n",
       "count    1436.000000  1436.000000    1436.000000    1436  1436.000000   \n",
       "unique           NaN          NaN            NaN       3          NaN   \n",
       "top              NaN          NaN            NaN  Petrol          NaN   \n",
       "freq             NaN          NaN            NaN    1264          NaN   \n",
       "mean    10730.824513    55.947075   68533.259749     NaN   101.502089   \n",
       "std      3626.964585    18.599988   37506.448872     NaN    14.981080   \n",
       "min      4350.000000     1.000000       1.000000     NaN    69.000000   \n",
       "25%      8450.000000    44.000000   43000.000000     NaN    90.000000   \n",
       "50%      9900.000000    61.000000   63389.500000     NaN   110.000000   \n",
       "75%     11950.000000    70.000000   87020.750000     NaN   110.000000   \n",
       "max     32500.000000    80.000000  243000.000000     NaN   192.000000   \n",
       "\n",
       "          Automatic           CC        Doors  Cylinders        Gears  \\\n",
       "count   1436.000000   1436.00000  1436.000000     1436.0  1436.000000   \n",
       "unique          NaN          NaN          NaN        NaN          NaN   \n",
       "top             NaN          NaN          NaN        NaN          NaN   \n",
       "freq            NaN          NaN          NaN        NaN          NaN   \n",
       "mean       0.055710   1576.85585     4.033426        4.0     5.026462   \n",
       "std        0.229441    424.38677     0.952677        0.0     0.188510   \n",
       "min        0.000000   1300.00000     2.000000        4.0     3.000000   \n",
       "25%        0.000000   1400.00000     3.000000        4.0     5.000000   \n",
       "50%        0.000000   1600.00000     4.000000        4.0     5.000000   \n",
       "75%        0.000000   1600.00000     5.000000        4.0     5.000000   \n",
       "max        1.000000  16000.00000     5.000000        4.0     6.000000   \n",
       "\n",
       "            Weight  \n",
       "count   1436.00000  \n",
       "unique         NaN  \n",
       "top            NaN  \n",
       "freq           NaN  \n",
       "mean    1072.45961  \n",
       "std       52.64112  \n",
       "min     1000.00000  \n",
       "25%     1040.00000  \n",
       "50%     1070.00000  \n",
       "75%     1085.00000  \n",
       "max     1615.00000  "
      ]
     },
     "execution_count": 9,
     "metadata": {},
     "output_type": "execute_result"
    }
   ],
   "source": [
    "## Summary\n",
    "data.describe(include='all')"
   ]
  },
  {
   "cell_type": "code",
   "execution_count": 10,
   "id": "92876272-95c8-45d3-8659-e0889432a27b",
   "metadata": {
    "tags": []
   },
   "outputs": [
    {
     "data": {
      "image/png": "[encoded data removed]",
      "text/plain": [
       "<Figure size 1500x900 with 9 Axes>"
      ]
     },
     "metadata": {},
     "output_type": "display_data"
    }
   ],
   "source": [
    "## plot histogram for numerical columns\n",
    "numerical_col = [\"Price\", \"Age\", \"KM\", \"HP\", \"CC\", \"Doors\", \"Gears\", \"Weight\"]\n",
    "data[numerical_col].hist(bins=15, figsize=(15,9), layout=(3,3))\n",
    "plt.show()"
   ]
  },
  {
   "cell_type": "code",
   "execution_count": 11,
   "id": "8574deaf-16a9-4008-bb14-9c0802c482c8",
   "metadata": {
    "tags": []
   },
   "outputs": [
    {
     "data": {
      "image/png": "[encoded data removed]",
      "text/plain": [
       "<Figure size 900x600 with 2 Axes>"
      ]
     },
     "metadata": {},
     "output_type": "display_data"
    }
   ],
   "source": [
    "## plot correlation heatmap of numerical values\n",
    "plt.figure(figsize=(9,6))\n",
    "sns.heatmap(data[numerical_col].corr(), annot=True, cmap='coolwarm')\n",
    "plt.title(\"Correlation Heat Map\")\n",
    "plt.show()"
   ]
  },
  {
   "cell_type": "code",
   "execution_count": 12,
   "id": "8929d93f-25fc-4778-9c5b-fb19f2d7aecb",
   "metadata": {
    "tags": []
   },
   "outputs": [
    {
     "data": {
      "text/plain": [
       "Price        0\n",
       "Age          0\n",
       "KM           0\n",
       "Fuel         0\n",
       "HP           0\n",
       "Automatic    0\n",
       "CC           0\n",
       "Doors        0\n",
       "Cylinders    0\n",
       "Gears        0\n",
       "Weight       0\n",
       "dtype: int64"
      ]
     },
     "execution_count": 12,
     "metadata": {},
     "output_type": "execute_result"
    }
   ],
   "source": [
    "# checking for null values\n",
    "data.isna().sum()"
   ]
  },
  {
   "cell_type": "code",
   "execution_count": 13,
   "id": "a6564dd9-9384-4a4b-b7f9-f1b61072e895",
   "metadata": {
    "tags": []
   },
   "outputs": [],
   "source": [
    "#Encoding catagorical values\n",
    "data = pd.get_dummies(data, columns=[\"Fuel\"], drop_first=True)"
   ]
  },
  {
   "cell_type": "code",
   "execution_count": 14,
   "id": "69e3dadf-5873-4502-8892-0b784bc3cfc4",
   "metadata": {
    "tags": []
   },
   "outputs": [
    {
     "name": "stdout",
     "output_type": "stream",
     "text": [
      "[[ 0.76376268 -1.77196633 -0.57469494 ... -1.08513865 -0.14042519\n",
      "   1.75856113]\n",
      " [ 0.83271485 -1.77196633  0.11745379 ... -1.08513865 -0.14042519\n",
      "   1.75856113]\n",
      " [ 0.88787659 -1.71818412 -0.71538641 ... -1.08513865 -0.14042519\n",
      "   1.75856113]\n",
      " ...\n",
      " [-0.6152808   0.80957948 -1.37403589 ... -1.08513865 -0.14042519\n",
      "  -1.09191497]\n",
      " [-0.96004167  0.75579727 -1.37670303 ... -1.08513865 -0.14042519\n",
      "  -1.09191497]\n",
      " [-1.04278428  1.0784905  -1.82784925 ...  1.014941   -0.14042519\n",
      "   0.78939926]]\n"
     ]
    }
   ],
   "source": [
    "# defining feature scaling\n",
    "scaler = StandardScaler()\n",
    "scaled_feature = scaler.fit_transform(data[numerical_col])\n",
    "print(scaled_feature)"
   ]
  },
  {
   "cell_type": "code",
   "execution_count": 15,
   "id": "11237495-98b9-48b2-ab73-77bc58d82c50",
   "metadata": {
    "tags": []
   },
   "outputs": [],
   "source": [
    "data[numerical_col] = scaled_feature"
   ]
  },
  {
   "cell_type": "code",
   "execution_count": 39,
   "id": "b417fce3-25f2-4728-87d4-19731cf8ca7d",
   "metadata": {
    "tags": []
   },
   "outputs": [
    {
     "data": {
      "text/plain": [
       "(           Age        KM        HP  Automatic        CC     Doors  Cylinders  \\\n",
       " 899   0.325540 -0.246397 -1.035138          0 -0.652594  1.014941          4   \n",
       " 881   0.648233 -0.185773  0.567440          0  0.054555 -0.035099          4   \n",
       " 310  -0.857669 -0.796947  0.567440          0  0.054555  1.014941          4   \n",
       " 1145  1.024708  0.888736  0.567440          0  0.054555  1.014941          4   \n",
       " 31   -1.825749 -0.889070 -0.300623          0 -0.416878 -1.085139          4   \n",
       " ...        ...       ...       ...        ...       ...       ...        ...   \n",
       " 1095  1.078490  1.526796  0.567440          0  0.054555 -1.085139          4   \n",
       " 1130  0.917144  1.028841  0.567440          0  0.054555 -1.085139          4   \n",
       " 1294  1.293619  0.085528  0.567440          0  0.054555  1.014941          4   \n",
       " 860   0.379322 -0.102505 -1.035138          0 -0.652594 -1.085139          4   \n",
       " 1126  1.293619  1.105975  0.567440          0  0.054555 -0.035099          4   \n",
       " \n",
       "          Gears    Weight  Fuel_Diesel  Fuel_Petrol  \n",
       " 899  -0.140425 -0.711851        False         True  \n",
       " 881  -0.140425 -0.711851        False         True  \n",
       " 310  -0.140425  0.143291        False         True  \n",
       " 1145 -0.140425 -0.046740        False         True  \n",
       " 31   -0.140425  0.523355        False         True  \n",
       " ...        ...       ...          ...          ...  \n",
       " 1095 -0.140425 -0.426804        False         True  \n",
       " 1130 -0.140425 -0.426804        False         True  \n",
       " 1294 -0.140425 -0.046740        False         True  \n",
       " 860  -0.140425 -0.996899        False         True  \n",
       " 1126 -0.140425 -0.711851        False         True  \n",
       " \n",
       " [1148 rows x 11 columns],\n",
       "            Age        KM        HP  Automatic        CC     Doors  Cylinders  \\\n",
       " 594  -0.319847 -1.227770 -0.300623          0 -0.416878 -1.085139          4   \n",
       " 754   0.648233  0.317196  0.567440          0  0.054555 -1.085139          4   \n",
       " 630   0.164193  1.639402 -1.969976          0  0.997419 -0.035099          4   \n",
       " 1259  0.809579  0.199148  0.567440          0  0.054555  1.014941          4   \n",
       " 903   0.486886 -0.254265  0.567440          0  0.054555  1.014941          4   \n",
       " ...        ...       ...       ...        ...       ...       ...        ...   \n",
       " 174  -2.578699 -1.566817  0.567440          0  0.054555  1.014941          4   \n",
       " 1428  0.863362 -1.134420 -1.035138          0 -0.652594 -1.085139          4   \n",
       " 297  -0.857669 -0.725308  0.567440          0  0.054555  1.014941          4   \n",
       " 1435  1.078490 -1.827849  0.567440          0  0.054555  1.014941          4   \n",
       " 1009  0.164193 -0.842262  0.567440          0  0.054555 -1.085139          4   \n",
       " \n",
       "          Gears    Weight  Fuel_Diesel  Fuel_Petrol  \n",
       " 594  -0.140425 -0.901883        False         True  \n",
       " 754  -0.140425 -0.331788        False         True  \n",
       " 630  -0.140425  1.188466         True        False  \n",
       " 1259 -0.140425 -0.046740        False         True  \n",
       " 903  -0.140425  0.048275        False         True  \n",
       " ...        ...       ...          ...          ...  \n",
       " 174  -0.140425  1.093450        False         True  \n",
       " 1428 -0.140425 -1.091915        False         True  \n",
       " 297  -0.140425  0.143291        False         True  \n",
       " 1435 -0.140425  0.789399        False         True  \n",
       " 1009 -0.140425 -0.426804        False         True  \n",
       " \n",
       " [288 rows x 11 columns],\n",
       " 899    -0.339472\n",
       " 881    -0.258109\n",
       " 310     0.612068\n",
       " 1145   -1.180689\n",
       " 31      1.384332\n",
       "           ...   \n",
       " 1095   -1.056575\n",
       " 1130   -0.766976\n",
       " 1294   -1.042784\n",
       " 860    -0.270520\n",
       " 1126   -1.084156\n",
       " Name: Price, Length: 1148, dtype: float64,\n",
       " 594     0.019079\n",
       " 754    -0.215358\n",
       " 630    -0.891089\n",
       " 1259   -0.408424\n",
       " 903    -0.270520\n",
       "           ...   \n",
       " 174     3.094346\n",
       " 1428   -0.629071\n",
       " 297     0.584487\n",
       " 1435   -1.042784\n",
       " 1009   -0.504957\n",
       " Name: Price, Length: 288, dtype: float64)"
      ]
     },
     "execution_count": 39,
     "metadata": {},
     "output_type": "execute_result"
    }
   ],
   "source": [
    "## spliting the data set in X and Y variables\n",
    "X = data.drop('Price', axis=1)\n",
    "Y = data['Price']\n",
    "X_train, X_test, y_train, y_test = train_test_split(X, Y, test_size=0.2, random_state=42)\n",
    "X_train, X_test, y_train, y_test"
   ]
  },
  {
   "cell_type": "code",
   "execution_count": 41,
   "id": "74339ed9-3e09-47e1-b43d-ee64a8978df5",
   "metadata": {
    "tags": []
   },
   "outputs": [],
   "source": [
    "# building model and saving ot on models\n",
    "models = {}"
   ]
  },
  {
   "cell_type": "code",
   "execution_count": 43,
   "id": "ce4e64c8-44ab-41b8-83ab-5d0aa3cee76d",
   "metadata": {
    "tags": []
   },
   "outputs": [],
   "source": [
    "# model1 = linear regression with all features\n",
    "lr1 = LinearRegression()\n",
    "lr1.fit(X_train,y_train)\n",
    "models['Linear Regression (all features)'] = lr1"
   ]
  },
  {
   "cell_type": "code",
   "execution_count": 45,
   "id": "24fa63aa-b442-4321-a029-8a314614dde1",
   "metadata": {
    "tags": []
   },
   "outputs": [],
   "source": [
    "# model2 - Linear regression with selective features\n",
    "selected_feature = [\"Age\", \"KM\", \"HP\", \"Weight\", \"Fuel_Petrol\", \"Fuel_Diesel\"]\n",
    "lr2 = LinearRegression()\n",
    "lr2.fit(X_train[selected_feature], y_train)\n",
    "models['Linear Regression (selected feature)'] = lr2"
   ]
  },
  {
   "cell_type": "code",
   "execution_count": 85,
   "id": "f0fa9c1d-7cf8-425e-ab5c-6cb800ed14c7",
   "metadata": {
    "tags": []
   },
   "outputs": [],
   "source": [
    "# model3 - Linear Regression with ploynomial features\n",
    "from sklearn.preprocessing import PolynomialFeatures\n",
    "poly = PolynomialFeatures(degree=2)\n",
    "X_train_poly = poly.fit_transform(X_train)\n",
    "X_test_poly = poly.transform(X_test)\n",
    "lr3 = LinearRegression()\n",
    "lr3.fit(X_train_poly, y_train)\n",
    "models['Linear Regression (Polynomial features)'] = lr3 "
   ]
  },
  {
   "cell_type": "code",
   "execution_count": 87,
   "id": "bf372c49-debe-4eff-b79e-3defbf95e00d",
   "metadata": {
    "tags": []
   },
   "outputs": [
    {
     "name": "stdout",
     "output_type": "stream",
     "text": [
      "Linear Regression (all features) - MSE: 0.16758650548094217, R2: 0.834888804061108\n",
      "Linear Regression (selected feature) - MSE: 0.1685812647157578, R2: 0.8339087377576768\n",
      "Linear Regression (Polynomial features) - MSE: 0.24330211306668797, R2: 0.7602915416869965\n"
     ]
    }
   ],
   "source": [
    "## Model evalutation\n",
    "for name, model in models.items():\n",
    "    if 'Polynomial' in name:\n",
    "        y_pred = model.predict(X_test_poly)\n",
    "    else:\n",
    "        y_pred = model.predict(X_test[selected_feature] if 'selected' in name else X_test)\n",
    "    mse = mean_squared_error(y_test, y_pred)\n",
    "    r2 = r2_score(y_test, y_pred)\n",
    "    print(f'{name} - MSE: {mse}, R2: {r2}')\n",
    "    "
   ]
  },
  {
   "cell_type": "code",
   "execution_count": 71,
   "id": "68e3df91-e4f6-4751-a44a-5690c996fbc7",
   "metadata": {
    "tags": []
   },
   "outputs": [],
   "source": [
    "# Applying Lasso and Ridge methods\n",
    "lasso = Lasso(alpha=0.1)\n",
    "ridge = Ridge(alpha=1.0)"
   ]
  },
  {
   "cell_type": "code",
   "execution_count": 74,
   "id": "1a098b97-8667-49f0-807e-dfa0bbf4a08f",
   "metadata": {
    "tags": []
   },
   "outputs": [
    {
     "name": "stdout",
     "output_type": "stream",
     "text": [
      "Lasso Regression - MSE: 0.17400385240333016, R2: 0.8285662435299396\n"
     ]
    }
   ],
   "source": [
    "# Fitting Lasso\n",
    "lasso.fit(X_train, y_train)\n",
    "y_pred_lasso = lasso.predict(X_test)\n",
    "mse_lasso = mean_squared_error(y_test, y_pred_lasso)\n",
    "r2_lasso = r2_score(y_test, y_pred_lasso)\n",
    "print(f'Lasso Regression - MSE: {mse_lasso}, R2: {r2_lasso}')"
   ]
  },
  {
   "cell_type": "code",
   "execution_count": 77,
   "id": "9f1c623a-5737-4032-bf94-3079a9b0a0cf",
   "metadata": {
    "tags": []
   },
   "outputs": [
    {
     "name": "stdout",
     "output_type": "stream",
     "text": [
      "Ridge Regression - MSE: 0.16716150986221212, R2: 0.8353075223503637\n"
     ]
    }
   ],
   "source": [
    "# Fitting Ridge\n",
    "ridge.fit(X_train, y_train)\n",
    "y_pred_ridge = ridge.predict(X_test)\n",
    "mse_ridge = mean_squared_error(y_test, y_pred_ridge)\n",
    "r2_ridge = r2_score(y_test, y_pred_ridge)\n",
    "print(f'Ridge Regression - MSE: {mse_ridge}, R2: {r2_ridge}')"
   ]
  },
  {
   "cell_type": "code",
   "execution_count": null,
   "id": "5f441a47-0bc6-4702-b4aa-a35d0e026d7a",
   "metadata": {},
   "outputs": [],
   "source": []
  }
 ],
 "metadata": {
  "kernelspec": {
   "display_name": "Python 3 (ipykernel)",
   "language": "python",
   "name": "python3"
  },
  "language_info": {
   "codemirror_mode": {
    "name": "ipython",
    "version": 3
   },
   "file_extension": ".py",
   "mimetype": "text/x-python",
   "name": "python",
   "nbconvert_exporter": "python",
   "pygments_lexer": "ipython3",
   "version": "3.11.7"
  }
 },
 "nbformat": 4,
 "nbformat_minor": 5
}
